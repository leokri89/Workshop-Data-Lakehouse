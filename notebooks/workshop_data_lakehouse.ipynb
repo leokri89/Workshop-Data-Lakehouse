{
 "cells": [
  {
   "cell_type": "markdown",
   "id": "c0114700",
   "metadata": {
    "slideshow": {
     "slide_type": "slide"
    }
   },
   "source": [
    "![capa](images/capa.png)"
   ]
  },
  {
   "cell_type": "markdown",
   "id": "2042bcc6",
   "metadata": {},
   "source": [
    "![data_architectures](images/data_architectures.png)"
   ]
  },
  {
   "cell_type": "markdown",
   "id": "21c91c37",
   "metadata": {},
   "source": [
    "![lakehouse](images/data_lakehouse.png)"
   ]
  },
  {
   "cell_type": "markdown",
   "id": "104a7b8b",
   "metadata": {},
   "source": [
    "![deltalake_logo](images/deltalake_logo.png)"
   ]
  },
  {
   "cell_type": "markdown",
   "id": "86d9cc80",
   "metadata": {},
   "source": [
    "![similares](images/similares.png)"
   ]
  },
  {
   "cell_type": "markdown",
   "id": "7a5e225d",
   "metadata": {},
   "source": [
    "![deltalake_01](images/deltalake_oferece.png)"
   ]
  },
  {
   "cell_type": "markdown",
   "id": "59daa844",
   "metadata": {},
   "source": [
    "![delta_lake_oferece](images/deltalake_oferece_01.png)"
   ]
  },
  {
   "cell_type": "markdown",
   "id": "154f2773",
   "metadata": {},
   "source": [
    "![deltalake](images/deltalake.png)"
   ]
  },
  {
   "cell_type": "markdown",
   "id": "b6db7724",
   "metadata": {},
   "source": [
    "## Hands On - Data Lakehouse com Delta Lake"
   ]
  },
  {
   "cell_type": "code",
   "execution_count": 1,
   "id": "2058c369",
   "metadata": {},
   "outputs": [],
   "source": [
    "import pyspark\n",
    "\n",
    "spark = pyspark.sql.SparkSession.builder.appName(\"Lakehouse\") \\\n",
    "    .config(\"spark.jars.packages\", \"io.delta:delta-core_2.12:0.8.0\") \\\n",
    "    .config(\"spark.sql.extensions\", \"io.delta.sql.DeltaSparkSessionExtension\") \\\n",
    "    .config(\"spark.sql.catalog.spark_catalog\", \"org.apache.spark.sql.delta.catalog.DeltaCatalog\") \\\n",
    "    .config(\"spark.databricks.delta.schema.autoMerge.enabled\",\"true\") \\\n",
    "    .config(\"spark.databricks.delta.autoOptimize.optimizeWrite\",\"true\") \\\n",
    "    .config(\"spark.databricks.delta.optimizeWrite.enabled\",\"true\") \\\n",
    "    .config(\"spark.databricks.delta.vacuum.parallelDelete.enabled\",\"true\") \\\n",
    "    .getOrCreate()\n",
    "\n",
    "from delta.tables import *\n",
    "from pyspark.sql.functions import *"
   ]
  },
  {
   "cell_type": "code",
   "execution_count": 2,
   "id": "06f18af8",
   "metadata": {},
   "outputs": [
    {
     "data": {
      "text/html": [
       "\n",
       "            <div>\n",
       "                <p><b>SparkSession - in-memory</b></p>\n",
       "                \n",
       "        <div>\n",
       "            <p><b>SparkContext</b></p>\n",
       "\n",
       "            <p><a href=\"http://192.168.0.172:4040\">Spark UI</a></p>\n",
       "\n",
       "            <dl>\n",
       "              <dt>Version</dt>\n",
       "                <dd><code>v3.0.0</code></dd>\n",
       "              <dt>Master</dt>\n",
       "                <dd><code>local[*]</code></dd>\n",
       "              <dt>AppName</dt>\n",
       "                <dd><code>Lakehouse</code></dd>\n",
       "            </dl>\n",
       "        </div>\n",
       "        \n",
       "            </div>\n",
       "        "
      ],
      "text/plain": [
       "<pyspark.sql.session.SparkSession at 0x7f13439989a0>"
      ]
     },
     "execution_count": 2,
     "metadata": {},
     "output_type": "execute_result"
    }
   ],
   "source": [
    "spark"
   ]
  },
  {
   "cell_type": "code",
   "execution_count": 3,
   "id": "d4b68a47",
   "metadata": {},
   "outputs": [],
   "source": [
    "path = 'tmp/sample.parquet'"
   ]
  },
  {
   "cell_type": "markdown",
   "id": "413ce19a",
   "metadata": {},
   "source": [
    "![star_wars](images/star_wars.png)"
   ]
  },
  {
   "cell_type": "markdown",
   "id": "fd74d293",
   "metadata": {},
   "source": [
    "### **Criando uma tabela Delta**\n",
    "\n",
    "* Para criar uma tabela Delta, escreve-se um DataFrame no formato delta. \n",
    "\n",
    "* Podemos utilizar um código Spark SQL existente e alterar o formato tradicional (parquet,csv,json, etc) para o formato delta."
   ]
  },
  {
   "cell_type": "code",
   "execution_count": 4,
   "id": "d8851351",
   "metadata": {},
   "outputs": [
    {
     "name": "stdout",
     "output_type": "stream",
     "text": [
      "+---+----------------+------+-------------+---------------+---------+--------+------------+\n",
      "| id|            nome|altura|cor_dos_olhos|data_nascimento|     sexo| planeta|     especie|\n",
      "+---+----------------+------+-------------+---------------+---------+--------+------------+\n",
      "|  1|  Luke Skywalker|  1.72|         azul|          19BBY|masculino|Tatooine|      Humano|\n",
      "|  2|           C-3PO|  1.67|      amarelo|         112BBY|       NA|Tatooine|       Droid|\n",
      "|  3|           R2-D2|  0.67|     vermelho|          33BBY|       NA|   Naboo|       Droid|\n",
      "|  4|Anakin Skywalker|  1.88|         azul|        41.9BBY|masculino|Tatooine|      Humano|\n",
      "|  5|     Leia Organa|   1.5|     castanho|          19BBY| feminino|Alderaan|      Humano|\n",
      "|  6|        Han Solo|   1.8|     castanho|          29BBY|masculino|Corellia|      Humano|\n",
      "|  7|            Yoda|  0.66|     castanho|         896BBY|masculino|    null|Yoda Especie|\n",
      "+---+----------------+------+-------------+---------------+---------+--------+------------+\n",
      "\n"
     ]
    }
   ],
   "source": [
    "df_star_wars = spark.createDataFrame(\n",
    "    [\n",
    "        (1, 'Luke Skywalker', 1.72,'azul','19BBY','masculino','Tatooine','Humano'),\n",
    "        (2, 'C-3PO',1.67,'amarelo','112BBY','NA','Tatooine','Droid'),\n",
    "        (3, 'R2-D2', 0.67, 'vermelho','33BBY','NA','Naboo','Droid'),\n",
    "        (4, 'Anakin Skywalker', 1.88, 'azul','41.9BBY','masculino','Tatooine','Humano'),\n",
    "        (5, 'Leia Organa', 1.50,'castanho','19BBY','feminino','Alderaan','Humano'),\n",
    "        (6, 'Han Solo', 1.80, 'castanho', '29BBY', 'masculino', 'Corellia', 'Humano'),\n",
    "        (7, 'Yoda', 0.66, 'castanho', '896BBY', 'masculino', None, 'Yoda Especie')\n",
    "     \n",
    "    ],\n",
    "        ['id', 'nome', 'altura', 'cor_dos_olhos','data_nascimento','sexo','planeta','especie']\n",
    ")\n",
    "\n",
    "df_star_wars.show()"
   ]
  },
  {
   "cell_type": "code",
   "execution_count": 5,
   "id": "00274beb",
   "metadata": {},
   "outputs": [],
   "source": [
    "df_star_wars.write.mode(\"overwrite\").format(\"delta\").save(path)"
   ]
  },
  {
   "cell_type": "markdown",
   "id": "31d8c596",
   "metadata": {},
   "source": [
    "![delta_table](images/delta_table.png)"
   ]
  },
  {
   "cell_type": "markdown",
   "id": "b0e044d4",
   "metadata": {},
   "source": [
    "![delta_table_01](images/delta_table_01.png)"
   ]
  },
  {
   "cell_type": "markdown",
   "id": "9b593df8",
   "metadata": {},
   "source": [
    "### **Leitura dos Dados**"
   ]
  },
  {
   "cell_type": "code",
   "execution_count": 6,
   "id": "08a3122a",
   "metadata": {},
   "outputs": [
    {
     "name": "stdout",
     "output_type": "stream",
     "text": [
      "+---+----------------+------+-------------+---------------+---------+--------+------------+\n",
      "|id |nome            |altura|cor_dos_olhos|data_nascimento|sexo     |planeta |especie     |\n",
      "+---+----------------+------+-------------+---------------+---------+--------+------------+\n",
      "|1  |Luke Skywalker  |1.72  |azul         |19BBY          |masculino|Tatooine|Humano      |\n",
      "|2  |C-3PO           |1.67  |amarelo      |112BBY         |NA       |Tatooine|Droid       |\n",
      "|3  |R2-D2           |0.67  |vermelho     |33BBY          |NA       |Naboo   |Droid       |\n",
      "|4  |Anakin Skywalker|1.88  |azul         |41.9BBY        |masculino|Tatooine|Humano      |\n",
      "|5  |Leia Organa     |1.5   |castanho     |19BBY          |feminino |Alderaan|Humano      |\n",
      "|6  |Han Solo        |1.8   |castanho     |29BBY          |masculino|Corellia|Humano      |\n",
      "|7  |Yoda            |0.66  |castanho     |896BBY         |masculino|null    |Yoda Especie|\n",
      "+---+----------------+------+-------------+---------------+---------+--------+------------+\n",
      "\n"
     ]
    }
   ],
   "source": [
    "df_delta = spark.read.format(\"delta\").load(path)\n",
    "df_delta.orderBy(\"id\").show(truncate=False)"
   ]
  },
  {
   "cell_type": "markdown",
   "id": "37b10237",
   "metadata": {},
   "source": [
    "![merge_tables](images/merge_tables.png)"
   ]
  },
  {
   "cell_type": "code",
   "execution_count": 7,
   "id": "7cf23128",
   "metadata": {},
   "outputs": [
    {
     "name": "stdout",
     "output_type": "stream",
     "text": [
      "+---+----------------+------+-------------+---------------+---------+--------+------------+\n",
      "| id|            nome|altura|cor_dos_olhos|data_nascimento|     sexo| planeta|     especie|\n",
      "+---+----------------+------+-------------+---------------+---------+--------+------------+\n",
      "|  1|  Luke Skywalker|  1.72|         azul|          19BBY|masculino|Tatooine|      Humano|\n",
      "|  2|           C-3PO|  1.67|      amarelo|         112BBY|       NA|Tatooine|       Droid|\n",
      "|  3|           R2-D2|  0.67|     vermelho|          33BBY|       NA|   Naboo|       Droid|\n",
      "|  4|Anakin Skywalker|  1.88|         azul|        41.9BBY|masculino|Tatooine|      Humano|\n",
      "|  5|     Leia Organa|   1.5|     castanho|          19BBY| feminino|Alderaan|      Humano|\n",
      "|  6|        Han Solo|   1.8|     castanho|          29BBY|masculino|Corellia|      Humano|\n",
      "|  7|            Yoda|  0.66|     castanho|         896BBY|masculino|    null|Yoda Especie|\n",
      "|  8|       Chewbacca|  2.28|         azul|         200BBY|masculino|Kashyyyk|     Wookiee|\n",
      "|  9|       Boba Fett|  1.83|     castanho|        31.5BBY|masculino|  Kamino|      Humano|\n",
      "| 10|       Palpatine|   1.7|      amarelo|          82BBY|masculino|   Naboo|      Humano|\n",
      "+---+----------------+------+-------------+---------------+---------+--------+------------+\n",
      "\n"
     ]
    }
   ],
   "source": [
    "df_star_wars_new = spark.createDataFrame(\n",
    "    [\n",
    "        (1, 'Luke Skywalker', 1.72,'azul','19BBY','masculino','Tatooine','Humano'),\n",
    "        (2, 'C-3PO',1.67,'amarelo','112BBY','NA','Tatooine','Droid'),\n",
    "        (3, 'R2-D2', 0.67, 'vermelho','33BBY','NA','Naboo','Droid'),\n",
    "        (4, 'Anakin Skywalker', 1.88, 'azul','41.9BBY','masculino','Tatooine','Humano'),\n",
    "        (5, 'Leia Organa', 1.50,'castanho','19BBY','feminino','Alderaan','Humano'),\n",
    "        (6, 'Han Solo', 1.80, 'castanho', '29BBY', 'masculino', 'Corellia', 'Humano'),\n",
    "        (7, 'Yoda', 0.66, 'castanho', '896BBY', 'masculino', None, 'Yoda Especie'),\n",
    "        (8, 'Chewbacca', 2.28, 'azul', '200BBY','masculino', 'Kashyyyk', 'Wookiee'),\n",
    "        (9, 'Boba Fett', 1.83, 'castanho', '31.5BBY','masculino','Kamino', 'Humano'),\n",
    "        (10, 'Palpatine', 1.70, 'amarelo', '82BBY','masculino','Naboo','Humano'),\n",
    "        \n",
    "     \n",
    "    ],\n",
    "        ['id', 'nome', 'altura', 'cor_dos_olhos','data_nascimento','sexo','planeta','especie']\n",
    ")\n",
    "\n",
    "df_star_wars_new.show()"
   ]
  },
  {
   "cell_type": "code",
   "execution_count": 8,
   "id": "6ce932de",
   "metadata": {},
   "outputs": [],
   "source": [
    "table = DeltaTable.forPath(spark, path)\n",
    "\n",
    "table.alias(\"persisteddata\") .merge( \\\n",
    "   df_star_wars_new.alias(\"newdata\"), \\\n",
    "    \"persisteddata.id = newdata.id\") \\\n",
    ".whenMatchedUpdateAll() \\\n",
    ".whenNotMatchedInsertAll() \\\n",
    ".execute()"
   ]
  },
  {
   "cell_type": "code",
   "execution_count": 9,
   "id": "446c1e89",
   "metadata": {},
   "outputs": [
    {
     "name": "stdout",
     "output_type": "stream",
     "text": [
      "+---+----------------+------+-------------+---------------+---------+--------+------------+\n",
      "|id |nome            |altura|cor_dos_olhos|data_nascimento|sexo     |planeta |especie     |\n",
      "+---+----------------+------+-------------+---------------+---------+--------+------------+\n",
      "|1  |Luke Skywalker  |1.72  |azul         |19BBY          |masculino|Tatooine|Humano      |\n",
      "|2  |C-3PO           |1.67  |amarelo      |112BBY         |NA       |Tatooine|Droid       |\n",
      "|3  |R2-D2           |0.67  |vermelho     |33BBY          |NA       |Naboo   |Droid       |\n",
      "|4  |Anakin Skywalker|1.88  |azul         |41.9BBY        |masculino|Tatooine|Humano      |\n",
      "|5  |Leia Organa     |1.5   |castanho     |19BBY          |feminino |Alderaan|Humano      |\n",
      "|6  |Han Solo        |1.8   |castanho     |29BBY          |masculino|Corellia|Humano      |\n",
      "|7  |Yoda            |0.66  |castanho     |896BBY         |masculino|null    |Yoda Especie|\n",
      "|8  |Chewbacca       |2.28  |azul         |200BBY         |masculino|Kashyyyk|Wookiee     |\n",
      "|9  |Boba Fett       |1.83  |castanho     |31.5BBY        |masculino|Kamino  |Humano      |\n",
      "|10 |Palpatine       |1.7   |amarelo      |82BBY          |masculino|Naboo   |Humano      |\n",
      "+---+----------------+------+-------------+---------------+---------+--------+------------+\n",
      "\n"
     ]
    }
   ],
   "source": [
    "table.toDF().orderBy(\"id\").show(truncate=False)"
   ]
  },
  {
   "cell_type": "markdown",
   "id": "686fd0f1",
   "metadata": {},
   "source": [
    "![log_transaction](images/log_transaction.png)"
   ]
  },
  {
   "cell_type": "markdown",
   "id": "f0411102",
   "metadata": {},
   "source": [
    "![new_files](images/new_files.png)"
   ]
  },
  {
   "cell_type": "markdown",
   "id": "59d16251",
   "metadata": {},
   "source": [
    "![update](images/update.png)"
   ]
  },
  {
   "cell_type": "code",
   "execution_count": 10,
   "id": "2ea28cd7",
   "metadata": {},
   "outputs": [],
   "source": [
    "table = DeltaTable.forPath(spark, path)\n",
    "table.update(\"id = 4\", \n",
    "            { \"nome\":\"'Darth Vader'\",\n",
    "            \"altura\":\"2.02\",\n",
    "            \"cor_dos_olhos\": \"'amarelo'\"} )"
   ]
  },
  {
   "cell_type": "code",
   "execution_count": 11,
   "id": "d6e14220",
   "metadata": {},
   "outputs": [
    {
     "name": "stdout",
     "output_type": "stream",
     "text": [
      "+---+--------------+------+-------------+---------------+---------+--------+------------+\n",
      "|id |nome          |altura|cor_dos_olhos|data_nascimento|sexo     |planeta |especie     |\n",
      "+---+--------------+------+-------------+---------------+---------+--------+------------+\n",
      "|1  |Luke Skywalker|1.72  |azul         |19BBY          |masculino|Tatooine|Humano      |\n",
      "|2  |C-3PO         |1.67  |amarelo      |112BBY         |NA       |Tatooine|Droid       |\n",
      "|3  |R2-D2         |0.67  |vermelho     |33BBY          |NA       |Naboo   |Droid       |\n",
      "|4  |Darth Vader   |2.02  |amarelo      |41.9BBY        |masculino|Tatooine|Humano      |\n",
      "|5  |Leia Organa   |1.5   |castanho     |19BBY          |feminino |Alderaan|Humano      |\n",
      "|6  |Han Solo      |1.8   |castanho     |29BBY          |masculino|Corellia|Humano      |\n",
      "|7  |Yoda          |0.66  |castanho     |896BBY         |masculino|null    |Yoda Especie|\n",
      "|8  |Chewbacca     |2.28  |azul         |200BBY         |masculino|Kashyyyk|Wookiee     |\n",
      "|9  |Boba Fett     |1.83  |castanho     |31.5BBY        |masculino|Kamino  |Humano      |\n",
      "|10 |Palpatine     |1.7   |amarelo      |82BBY          |masculino|Naboo   |Humano      |\n",
      "+---+--------------+------+-------------+---------------+---------+--------+------------+\n",
      "\n"
     ]
    }
   ],
   "source": [
    "table.toDF().orderBy(\"id\").show(truncate=False)"
   ]
  },
  {
   "cell_type": "markdown",
   "id": "655e85d0",
   "metadata": {},
   "source": [
    "![delete](images/delete.png)"
   ]
  },
  {
   "cell_type": "code",
   "execution_count": 12,
   "id": "f61bab71",
   "metadata": {},
   "outputs": [],
   "source": [
    "table = DeltaTable.forPath(spark, path)\n",
    "table.delete(\"id=9\")"
   ]
  },
  {
   "cell_type": "code",
   "execution_count": 13,
   "id": "f0e8b61d",
   "metadata": {},
   "outputs": [
    {
     "name": "stdout",
     "output_type": "stream",
     "text": [
      "+---+--------------+------+-------------+---------------+---------+--------+------------+\n",
      "|id |nome          |altura|cor_dos_olhos|data_nascimento|sexo     |planeta |especie     |\n",
      "+---+--------------+------+-------------+---------------+---------+--------+------------+\n",
      "|1  |Luke Skywalker|1.72  |azul         |19BBY          |masculino|Tatooine|Humano      |\n",
      "|2  |C-3PO         |1.67  |amarelo      |112BBY         |NA       |Tatooine|Droid       |\n",
      "|3  |R2-D2         |0.67  |vermelho     |33BBY          |NA       |Naboo   |Droid       |\n",
      "|4  |Darth Vader   |2.02  |amarelo      |41.9BBY        |masculino|Tatooine|Humano      |\n",
      "|5  |Leia Organa   |1.5   |castanho     |19BBY          |feminino |Alderaan|Humano      |\n",
      "|6  |Han Solo      |1.8   |castanho     |29BBY          |masculino|Corellia|Humano      |\n",
      "|7  |Yoda          |0.66  |castanho     |896BBY         |masculino|null    |Yoda Especie|\n",
      "|8  |Chewbacca     |2.28  |azul         |200BBY         |masculino|Kashyyyk|Wookiee     |\n",
      "|10 |Palpatine     |1.7   |amarelo      |82BBY          |masculino|Naboo   |Humano      |\n",
      "+---+--------------+------+-------------+---------------+---------+--------+------------+\n",
      "\n"
     ]
    }
   ],
   "source": [
    "table.toDF().orderBy(\"id\").show(truncate=False)"
   ]
  },
  {
   "cell_type": "markdown",
   "id": "9aa0750e",
   "metadata": {},
   "source": [
    "![schema_validation](images/schema_validation.png)"
   ]
  },
  {
   "cell_type": "code",
   "execution_count": 14,
   "id": "66ccaa88",
   "metadata": {},
   "outputs": [
    {
     "name": "stdout",
     "output_type": "stream",
     "text": [
      "+---+--------------+------+-------------+---------------+---------+--------+-------+------+\n",
      "|id |nome          |altura|cor_dos_olhos|data_nascimento|sexo     |planeta |especie|titulo|\n",
      "+---+--------------+------+-------------+---------------+---------+--------+-------+------+\n",
      "|1  |Luke Skywalker|1.72  |azul         |19BBY          |masculino|Tatooine|Humano |Jedi  |\n",
      "|11 |Obi-Wan Kenobi|1.82  |azul         |64BBY          |masculino|Eriadu  |Humano |Jedi  |\n",
      "+---+--------------+------+-------------+---------------+---------+--------+-------+------+\n",
      "\n"
     ]
    }
   ],
   "source": [
    "df_star_wars_schema = spark.createDataFrame(\n",
    "    [\n",
    "        (1, 'Luke Skywalker', 1.72,'azul','19BBY','masculino','Tatooine','Humano','Jedi'),\n",
    "        (11, 'Obi-Wan Kenobi', 1.82,'azul','64BBY','masculino','Eriadu','Humano','Jedi'),\n",
    "     \n",
    "    ],\n",
    "        ['id', 'nome', 'altura', 'cor_dos_olhos','data_nascimento','sexo','planeta','especie', 'titulo']\n",
    ")\n",
    "df_star_wars_schema.show(truncate=False)"
   ]
  },
  {
   "cell_type": "code",
   "execution_count": 18,
   "id": "2444737e",
   "metadata": {},
   "outputs": [],
   "source": [
    "table = DeltaTable.forPath(spark, path)\n",
    "table.alias(\"persisteddata\") .merge( \\\n",
    "   df_star_wars_schema.alias(\"newdata\"), \\\n",
    "    \"persisteddata.id = newdata.id\") \\\n",
    ".whenMatchedUpdateAll() \\\n",
    ".whenNotMatchedInsertAll()\\\n",
    ".execute()"
   ]
  },
  {
   "cell_type": "code",
   "execution_count": 19,
   "id": "50accbef",
   "metadata": {
    "scrolled": true
   },
   "outputs": [
    {
     "name": "stdout",
     "output_type": "stream",
     "text": [
      "+---+--------------+------+-------------+---------------+---------+--------+------------+------+\n",
      "|id |nome          |altura|cor_dos_olhos|data_nascimento|sexo     |planeta |especie     |titulo|\n",
      "+---+--------------+------+-------------+---------------+---------+--------+------------+------+\n",
      "|1  |Luke Skywalker|1.72  |azul         |19BBY          |masculino|Tatooine|Humano      |Jedi  |\n",
      "|2  |C-3PO         |1.67  |amarelo      |112BBY         |NA       |Tatooine|Droid       |null  |\n",
      "|3  |R2-D2         |0.67  |vermelho     |33BBY          |NA       |Naboo   |Droid       |null  |\n",
      "|4  |Darth Vader   |2.02  |amarelo      |41.9BBY        |masculino|Tatooine|Humano      |null  |\n",
      "|5  |Leia Organa   |1.5   |castanho     |19BBY          |feminino |Alderaan|Humano      |null  |\n",
      "|6  |Han Solo      |1.8   |castanho     |29BBY          |masculino|Corellia|Humano      |null  |\n",
      "|7  |Yoda          |0.66  |castanho     |896BBY         |masculino|null    |Yoda Especie|null  |\n",
      "|8  |Chewbacca     |2.28  |azul         |200BBY         |masculino|Kashyyyk|Wookiee     |null  |\n",
      "|10 |Palpatine     |1.7   |amarelo      |82BBY          |masculino|Naboo   |Humano      |null  |\n",
      "|11 |Obi-Wan Kenobi|1.82  |azul         |64BBY          |masculino|Eriadu  |Humano      |Jedi  |\n",
      "+---+--------------+------+-------------+---------------+---------+--------+------------+------+\n",
      "\n"
     ]
    }
   ],
   "source": [
    "table.toDF().orderBy(\"id\").show(truncate=False)"
   ]
  },
  {
   "cell_type": "markdown",
   "id": "1d79ff70",
   "metadata": {},
   "source": [
    "![history_01](images/history_01.png)"
   ]
  },
  {
   "cell_type": "markdown",
   "id": "63f0dab2",
   "metadata": {},
   "source": [
    "![history](images/history.png)"
   ]
  },
  {
   "cell_type": "code",
   "execution_count": 20,
   "id": "d598d2a8",
   "metadata": {},
   "outputs": [
    {
     "name": "stdout",
     "output_type": "stream",
     "text": [
      "+---+----------------+------+-------------+---------------+---------+--------+------------+\n",
      "| id|            nome|altura|cor_dos_olhos|data_nascimento|     sexo| planeta|     especie|\n",
      "+---+----------------+------+-------------+---------------+---------+--------+------------+\n",
      "|  1|  Luke Skywalker|  1.72|         azul|          19BBY|masculino|Tatooine|      Humano|\n",
      "|  2|           C-3PO|  1.67|      amarelo|         112BBY|       NA|Tatooine|       Droid|\n",
      "|  3|           R2-D2|  0.67|     vermelho|          33BBY|       NA|   Naboo|       Droid|\n",
      "|  4|Anakin Skywalker|  1.88|         azul|        41.9BBY|masculino|Tatooine|      Humano|\n",
      "|  5|     Leia Organa|   1.5|     castanho|          19BBY| feminino|Alderaan|      Humano|\n",
      "|  6|        Han Solo|   1.8|     castanho|          29BBY|masculino|Corellia|      Humano|\n",
      "|  7|            Yoda|  0.66|     castanho|         896BBY|masculino|    null|Yoda Especie|\n",
      "+---+----------------+------+-------------+---------------+---------+--------+------------+\n",
      "\n"
     ]
    }
   ],
   "source": [
    "#Dataset original\n",
    "df_star_wars = spark.read.format(\"delta\").option(\"versionAsOf\", 0).load(path)\n",
    "df_star_wars.orderBy(\"id\").show()"
   ]
  },
  {
   "cell_type": "code",
   "execution_count": 21,
   "id": "182f21be",
   "metadata": {},
   "outputs": [
    {
     "name": "stdout",
     "output_type": "stream",
     "text": [
      "+---+--------------+------+-------------+---------------+---------+--------+------------+\n",
      "| id|          nome|altura|cor_dos_olhos|data_nascimento|     sexo| planeta|     especie|\n",
      "+---+--------------+------+-------------+---------------+---------+--------+------------+\n",
      "|  1|Luke Skywalker|  1.72|         azul|          19BBY|masculino|Tatooine|      Humano|\n",
      "|  2|         C-3PO|  1.67|      amarelo|         112BBY|       NA|Tatooine|       Droid|\n",
      "|  3|         R2-D2|  0.67|     vermelho|          33BBY|       NA|   Naboo|       Droid|\n",
      "|  4|   Darth Vader|  2.02|      amarelo|        41.9BBY|masculino|Tatooine|      Humano|\n",
      "|  5|   Leia Organa|   1.5|     castanho|          19BBY| feminino|Alderaan|      Humano|\n",
      "|  6|      Han Solo|   1.8|     castanho|          29BBY|masculino|Corellia|      Humano|\n",
      "|  7|          Yoda|  0.66|     castanho|         896BBY|masculino|    null|Yoda Especie|\n",
      "|  8|     Chewbacca|  2.28|         azul|         200BBY|masculino|Kashyyyk|     Wookiee|\n",
      "|  9|     Boba Fett|  1.83|     castanho|        31.5BBY|masculino|  Kamino|      Humano|\n",
      "| 10|     Palpatine|   1.7|      amarelo|          82BBY|masculino|   Naboo|      Humano|\n",
      "+---+--------------+------+-------------+---------------+---------+--------+------------+\n",
      "\n"
     ]
    }
   ],
   "source": [
    "df_star_wars = spark.read.format(\"delta\").option(\"versionAsOf\", 2).load(path)\n",
    "df_star_wars.orderBy(\"id\").show()"
   ]
  },
  {
   "cell_type": "markdown",
   "id": "8a7e0811",
   "metadata": {},
   "source": [
    "![history_02](images/history_02.png)"
   ]
  },
  {
   "cell_type": "markdown",
   "id": "f5c3a44d",
   "metadata": {},
   "source": [
    "## A recuperação de histórico ainda não funciona em todos os ambientes do Delta Lake"
   ]
  },
  {
   "cell_type": "code",
   "execution_count": 22,
   "id": "a87a4cd7",
   "metadata": {},
   "outputs": [],
   "source": [
    "fullHistoryDF = table.history() "
   ]
  },
  {
   "cell_type": "code",
   "execution_count": 23,
   "id": "0fe0305b",
   "metadata": {},
   "outputs": [
    {
     "name": "stdout",
     "output_type": "stream",
     "text": [
      "+-------+-------------------+------+--------+---------+--------------------+----+--------+---------+-----------+--------------+-------------+--------------------+------------+\n",
      "|version|          timestamp|userId|userName|operation| operationParameters| job|notebook|clusterId|readVersion|isolationLevel|isBlindAppend|    operationMetrics|userMetadata|\n",
      "+-------+-------------------+------+--------+---------+--------------------+----+--------+---------+-----------+--------------+-------------+--------------------+------------+\n",
      "|      5|2021-12-01 22:10:00|  null|    null|    MERGE|[predicate -> (pe...|null|    null|     null|          4|          null|        false|[numTargetRowsCop...|        null|\n",
      "|      4|2021-12-01 22:09:29|  null|    null|    MERGE|[predicate -> (pe...|null|    null|     null|          3|          null|        false|[numTargetRowsCop...|        null|\n",
      "|      3|2021-12-01 22:08:56|  null|    null|   DELETE|[predicate -> [\"(...|null|    null|     null|          2|          null|        false|[numRemovedFiles ...|        null|\n",
      "|      2|2021-12-01 22:08:49|  null|    null|   UPDATE|[predicate -> (id...|null|    null|     null|          1|          null|        false|[numRemovedFiles ...|        null|\n",
      "|      1|2021-12-01 22:08:15|  null|    null|    MERGE|[predicate -> (pe...|null|    null|     null|          0|          null|        false|[numTargetRowsCop...|        null|\n",
      "|      0|2021-12-01 22:08:01|  null|    null|    WRITE|[mode -> Overwrit...|null|    null|     null|       null|          null|        false|[numFiles -> 8, n...|        null|\n",
      "+-------+-------------------+------+--------+---------+--------------------+----+--------+---------+-----------+--------------+-------------+--------------------+------------+\n",
      "\n"
     ]
    }
   ],
   "source": [
    "fullHistoryDF.show()"
   ]
  },
  {
   "cell_type": "code",
   "execution_count": 24,
   "id": "21c9c0c2",
   "metadata": {},
   "outputs": [],
   "source": [
    "lastOperationDF = table.history(1) "
   ]
  },
  {
   "cell_type": "code",
   "execution_count": 25,
   "id": "b9a551ac",
   "metadata": {},
   "outputs": [
    {
     "name": "stdout",
     "output_type": "stream",
     "text": [
      "+-------+-------------------+------+--------+---------+--------------------+----+--------+---------+-----------+--------------+-------------+--------------------+------------+\n",
      "|version|          timestamp|userId|userName|operation| operationParameters| job|notebook|clusterId|readVersion|isolationLevel|isBlindAppend|    operationMetrics|userMetadata|\n",
      "+-------+-------------------+------+--------+---------+--------------------+----+--------+---------+-----------+--------------+-------------+--------------------+------------+\n",
      "|      5|2021-12-01 22:10:00|  null|    null|    MERGE|[predicate -> (pe...|null|    null|     null|          4|          null|        false|[numTargetRowsCop...|        null|\n",
      "+-------+-------------------+------+--------+---------+--------------------+----+--------+---------+-----------+--------------+-------------+--------------------+------------+\n",
      "\n"
     ]
    }
   ],
   "source": [
    "lastOperationDF.show(truncate=True)"
   ]
  },
  {
   "cell_type": "code",
   "execution_count": 26,
   "id": "3e5c18f9",
   "metadata": {},
   "outputs": [
    {
     "name": "stdout",
     "output_type": "stream",
     "text": [
      "+---+--------------+------+-------------+---------------+---------+--------+------------+------+\n",
      "| id|          nome|altura|cor_dos_olhos|data_nascimento|     sexo| planeta|     especie|titulo|\n",
      "+---+--------------+------+-------------+---------------+---------+--------+------------+------+\n",
      "|  1|Luke Skywalker|  1.72|         azul|          19BBY|masculino|Tatooine|      Humano|  Jedi|\n",
      "|  2|         C-3PO|  1.67|      amarelo|         112BBY|       NA|Tatooine|       Droid|  null|\n",
      "|  3|         R2-D2|  0.67|     vermelho|          33BBY|       NA|   Naboo|       Droid|  null|\n",
      "|  4|   Darth Vader|  2.02|      amarelo|        41.9BBY|masculino|Tatooine|      Humano|  null|\n",
      "|  5|   Leia Organa|   1.5|     castanho|          19BBY| feminino|Alderaan|      Humano|  null|\n",
      "|  6|      Han Solo|   1.8|     castanho|          29BBY|masculino|Corellia|      Humano|  null|\n",
      "|  7|          Yoda|  0.66|     castanho|         896BBY|masculino|    null|Yoda Especie|  null|\n",
      "|  8|     Chewbacca|  2.28|         azul|         200BBY|masculino|Kashyyyk|     Wookiee|  null|\n",
      "| 10|     Palpatine|   1.7|      amarelo|          82BBY|masculino|   Naboo|      Humano|  null|\n",
      "| 11|Obi-Wan Kenobi|  1.82|         azul|          64BBY|masculino|  Eriadu|      Humano|  Jedi|\n",
      "+---+--------------+------+-------------+---------------+---------+--------+------------+------+\n",
      "\n"
     ]
    }
   ],
   "source": [
    "df_star_wars = spark.read.format(\"delta\").option(\"versionAsOf\", 5).load(path)\n",
    "df_star_wars.orderBy(\"id\").show()"
   ]
  },
  {
   "cell_type": "code",
   "execution_count": 28,
   "id": "166f7899",
   "metadata": {},
   "outputs": [
    {
     "name": "stdout",
     "output_type": "stream",
     "text": [
      "+-------+-------------------+\n",
      "|version|timestamp          |\n",
      "+-------+-------------------+\n",
      "|0      |2021-12-01 22:08:01|\n",
      "|1      |2021-12-01 22:08:15|\n",
      "|2      |2021-12-01 22:08:49|\n",
      "|3      |2021-12-01 22:08:56|\n",
      "|4      |2021-12-01 22:09:29|\n",
      "|5      |2021-12-01 22:10:00|\n",
      "+-------+-------------------+\n",
      "\n"
     ]
    }
   ],
   "source": [
    "fullHistoryDF.select(\"version\",\"timestamp\")\\\n",
    "    .orderBy(\"version\")\\\n",
    "    .show(truncate=False)"
   ]
  },
  {
   "cell_type": "markdown",
   "id": "6ca6134c",
   "metadata": {},
   "source": [
    "![storage](images/storage.png)"
   ]
  },
  {
   "cell_type": "markdown",
   "id": "55a47543",
   "metadata": {},
   "source": [
    "![vacuum](images/vacuum.png)"
   ]
  },
  {
   "cell_type": "code",
   "execution_count": 29,
   "id": "71f273c3",
   "metadata": {},
   "outputs": [],
   "source": [
    "table = DeltaTable.forPath(spark, path)"
   ]
  },
  {
   "cell_type": "markdown",
   "id": "e25d31eb",
   "metadata": {},
   "source": [
    "### O VACUUM recebe parâmetros de período distintos em Horas."
   ]
  },
  {
   "cell_type": "code",
   "execution_count": 30,
   "id": "6da51f30",
   "metadata": {},
   "outputs": [
    {
     "data": {
      "text/plain": [
       "DataFrame[]"
      ]
     },
     "execution_count": 30,
     "metadata": {},
     "output_type": "execute_result"
    }
   ],
   "source": [
    "table.vacuum(1000)"
   ]
  },
  {
   "cell_type": "markdown",
   "id": "dc49eedc",
   "metadata": {},
   "source": [
    "![contacts](images/contacts.png)"
   ]
  },
  {
   "cell_type": "code",
   "execution_count": 41,
   "id": "ea33f209",
   "metadata": {},
   "outputs": [],
   "source": [
    "!rm -rf tmp/"
   ]
  }
 ],
 "metadata": {
  "kernelspec": {
   "display_name": "Python 3",
   "language": "python",
   "name": "python3"
  },
  "language_info": {
   "codemirror_mode": {
    "name": "ipython",
    "version": 3
   },
   "file_extension": ".py",
   "mimetype": "text/x-python",
   "name": "python",
   "nbconvert_exporter": "python",
   "pygments_lexer": "ipython3",
   "version": "3.8.10"
  }
 },
 "nbformat": 4,
 "nbformat_minor": 5
}
