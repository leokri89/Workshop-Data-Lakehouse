{
 "cells": [
  {
   "cell_type": "markdown",
   "id": "f4336b1d",
   "metadata": {},
   "source": [
    "## Data Lake vs Data Lakehouse: Implementação prática com Spark"
   ]
  },
  {
   "cell_type": "markdown",
   "id": "c0114700",
   "metadata": {
    "slideshow": {
     "slide_type": "slide"
    }
   },
   "source": [
    "![capa](images/capa.png)"
   ]
  },
  {
   "cell_type": "markdown",
   "id": "ef5a4342",
   "metadata": {},
   "source": [
    "### Evolução das Arquiteturas de Dados"
   ]
  },
  {
   "cell_type": "markdown",
   "id": "2042bcc6",
   "metadata": {},
   "source": [
    "![data_architectures](images/data_architectures.png)"
   ]
  },
  {
   "cell_type": "markdown",
   "id": "25dbfde8",
   "metadata": {},
   "source": [
    "> # **Data Lakehouse** é uma nova arquitetura de gerenciamento de dados aberta que implementa estruturas de dados e recursos de gerenciamento de dados semelhantes aos de um Data Warehouse, diretamente no tipo de armazenamento de baixo custo usado para Data Lakes. "
   ]
  },
  {
   "cell_type": "markdown",
   "id": "e9f76297",
   "metadata": {},
   "source": [
    "![acid](images/acid.png)"
   ]
  },
  {
   "cell_type": "code",
   "execution_count": 1,
   "id": "b647361e",
   "metadata": {},
   "outputs": [
    {
     "name": "stdout",
     "output_type": "stream",
     "text": [
      "/usr/lib/python3/dist-packages/secretstorage/dhcrypto.py:15: CryptographyDeprecationWarning: int_from_bytes is deprecated, use int.from_bytes instead\n",
      "  from cryptography.utils import int_from_bytes\n",
      "/usr/lib/python3/dist-packages/secretstorage/util.py:19: CryptographyDeprecationWarning: int_from_bytes is deprecated, use int.from_bytes instead\n",
      "  from cryptography.utils import int_from_bytes\n",
      "Defaulting to user installation because normal site-packages is not writeable\n",
      "Requirement already satisfied: pyspark==3.0.0 in /home/valeria.silva/.local/lib/python3.8/site-packages (3.0.0)\n",
      "Requirement already satisfied: py4j==0.10.9 in /home/valeria.silva/.local/lib/python3.8/site-packages (from pyspark==3.0.0) (0.10.9)\n",
      "\u001b[33mWARNING: You are using pip version 21.0.1; however, version 21.3.1 is available.\n",
      "You should consider upgrading via the '/usr/bin/python -m pip install --upgrade pip' command.\u001b[0m\n"
     ]
    }
   ],
   "source": [
    "!pip install pyspark==3.0.0"
   ]
  },
  {
   "cell_type": "code",
   "execution_count": 2,
   "id": "2058c369",
   "metadata": {},
   "outputs": [],
   "source": [
    "import pyspark\n",
    "\n",
    "spark = pyspark.sql.SparkSession.builder.appName(\"Lakehouse\") \\\n",
    "    .config(\"spark.jars.packages\", \"io.delta:delta-core_2.12:0.8.0\") \\\n",
    "    .config(\"spark.sql.extensions\", \"io.delta.sql.DeltaSparkSessionExtension\") \\\n",
    "    .config(\"spark.sql.catalog.spark_catalog\", \"org.apache.spark.sql.delta.catalog.DeltaCatalog\") \\\n",
    "    .config(\"spark.databricks.delta.schema.autoMerge.enabled\",\"true\") \\\n",
    "    .config(\"spark.databricks.delta.autoOptimize.optimizeWrite\",\"true\") \\\n",
    "    .config(\"spark.databricks.delta.optimizeWrite.enabled\",\"true\") \\\n",
    "    .config(\"spark.databricks.delta.vacuum.parallelDelete.enabled\",\"true\") \\\n",
    "    .getOrCreate()\n",
    "\n",
    "from delta.tables import *\n",
    "from pyspark.sql.functions import *"
   ]
  },
  {
   "cell_type": "code",
   "execution_count": 3,
   "id": "06f18af8",
   "metadata": {},
   "outputs": [
    {
     "data": {
      "text/html": [
       "\n",
       "            <div>\n",
       "                <p><b>SparkSession - in-memory</b></p>\n",
       "                \n",
       "        <div>\n",
       "            <p><b>SparkContext</b></p>\n",
       "\n",
       "            <p><a href=\"http://192.168.0.172:4040\">Spark UI</a></p>\n",
       "\n",
       "            <dl>\n",
       "              <dt>Version</dt>\n",
       "                <dd><code>v3.0.0</code></dd>\n",
       "              <dt>Master</dt>\n",
       "                <dd><code>local[*]</code></dd>\n",
       "              <dt>AppName</dt>\n",
       "                <dd><code>Lakehouse</code></dd>\n",
       "            </dl>\n",
       "        </div>\n",
       "        \n",
       "            </div>\n",
       "        "
      ],
      "text/plain": [
       "<pyspark.sql.session.SparkSession at 0x7fe773fdbc40>"
      ]
     },
     "execution_count": 3,
     "metadata": {},
     "output_type": "execute_result"
    }
   ],
   "source": [
    "spark"
   ]
  },
  {
   "cell_type": "code",
   "execution_count": 4,
   "id": "d4b68a47",
   "metadata": {},
   "outputs": [],
   "source": [
    "path = 'tmp/sample.parquet'"
   ]
  },
  {
   "cell_type": "code",
   "execution_count": 5,
   "id": "ea33f209",
   "metadata": {},
   "outputs": [],
   "source": [
    "!rm -rf tmp/"
   ]
  },
  {
   "cell_type": "markdown",
   "id": "fd74d293",
   "metadata": {},
   "source": [
    "**Criando uma tabela Delta**\n",
    "\n",
    "Para criar uma tabela Delta, escreva um DataFrame no formato delta. Você pode usar o código Spark SQL existente e alterar o formato de parquet, csv, json e assim por diante para delta."
   ]
  },
  {
   "cell_type": "code",
   "execution_count": 6,
   "id": "d8851351",
   "metadata": {},
   "outputs": [
    {
     "name": "stdout",
     "output_type": "stream",
     "text": [
      "+---+----------------+------+-------------+---------------+---------+--------+------------+\n",
      "| id|            nome|altura|cor_dos_olhos|data_nascimento|     sexo| planeta|     especie|\n",
      "+---+----------------+------+-------------+---------------+---------+--------+------------+\n",
      "|  1|  Luke Skywalker|  1.72|         azul|          19BBY|masculino|Tatooine|      Humano|\n",
      "|  2|           C-3PO|  1.67|      amarelo|         112BBY|       NA|Tatooine|       Droid|\n",
      "|  3|           R2-D2|  0.67|     vermelho|          33BBY|       NA|   Naboo|       Droid|\n",
      "|  4|Anakin Skywalker|  1.88|         azul|        41.9BBY|masculino|Tatooine|      Humano|\n",
      "|  5|     Leia Organa|   1.5|     castanho|          19BBY| feminino|Alderaan|      Humano|\n",
      "|  6|        Han Solo|   1.8|     castanho|          29BBY|masculino|Corellia|      Humano|\n",
      "|  7|            Yoda|  0.66|     castanho|         896BBY|masculino|    null|Yoda Especie|\n",
      "+---+----------------+------+-------------+---------------+---------+--------+------------+\n",
      "\n"
     ]
    }
   ],
   "source": [
    "df_star_wars = spark.createDataFrame(\n",
    "    [\n",
    "        (1, 'Luke Skywalker', 1.72,'azul','19BBY','masculino','Tatooine','Humano'),\n",
    "        (2, 'C-3PO',1.67,'amarelo','112BBY','NA','Tatooine','Droid'),\n",
    "        (3, 'R2-D2', 0.67, 'vermelho','33BBY','NA','Naboo','Droid'),\n",
    "        (4, 'Anakin Skywalker', 1.88, 'azul','41.9BBY','masculino','Tatooine','Humano'),\n",
    "        (5, 'Leia Organa', 1.50,'castanho','19BBY','feminino','Alderaan','Humano'),\n",
    "        (6, 'Han Solo', 1.80, 'castanho', '29BBY', 'masculino', 'Corellia', 'Humano'),\n",
    "        (7, 'Yoda', 0.66, 'castanho', '896BBY', 'masculino', None, 'Yoda Especie')\n",
    "     \n",
    "    ],\n",
    "        ['id', 'nome', 'altura', 'cor_dos_olhos','data_nascimento','sexo','planeta','especie']\n",
    ")\n",
    "\n",
    "df_star_wars.show()"
   ]
  },
  {
   "cell_type": "code",
   "execution_count": 7,
   "id": "00274beb",
   "metadata": {},
   "outputs": [],
   "source": [
    "df_star_wars.write.format(\"delta\").save(path)"
   ]
  },
  {
   "cell_type": "markdown",
   "id": "9b593df8",
   "metadata": {},
   "source": [
    "**Leitura dos Dados**\n",
    "\n",
    "Para realizar a leitura de uma tabela Delta especificando o caminho para os arquivos: \n",
    "\n",
    "\"/tmp/delta-table\":"
   ]
  },
  {
   "cell_type": "code",
   "execution_count": 8,
   "id": "08a3122a",
   "metadata": {},
   "outputs": [
    {
     "name": "stdout",
     "output_type": "stream",
     "text": [
      "+---+----------------+------+-------------+---------------+---------+--------+------------+\n",
      "|id |nome            |altura|cor_dos_olhos|data_nascimento|sexo     |planeta |especie     |\n",
      "+---+----------------+------+-------------+---------------+---------+--------+------------+\n",
      "|4  |Anakin Skywalker|1.88  |azul         |41.9BBY        |masculino|Tatooine|Humano      |\n",
      "|5  |Leia Organa     |1.5   |castanho     |19BBY          |feminino |Alderaan|Humano      |\n",
      "|1  |Luke Skywalker  |1.72  |azul         |19BBY          |masculino|Tatooine|Humano      |\n",
      "|6  |Han Solo        |1.8   |castanho     |29BBY          |masculino|Corellia|Humano      |\n",
      "|7  |Yoda            |0.66  |castanho     |896BBY         |masculino|null    |Yoda Especie|\n",
      "|2  |C-3PO           |1.67  |amarelo      |112BBY         |NA       |Tatooine|Droid       |\n",
      "|3  |R2-D2           |0.67  |vermelho     |33BBY          |NA       |Naboo   |Droid       |\n",
      "+---+----------------+------+-------------+---------------+---------+--------+------------+\n",
      "\n"
     ]
    }
   ],
   "source": [
    "df_delta = spark.read.format(\"delta\").load(path)\n",
    "df_delta.show(truncate=False)"
   ]
  },
  {
   "cell_type": "markdown",
   "id": "7d2780d8",
   "metadata": {},
   "source": [
    "**Atualização condicional sem sobrescrever**\n",
    "\n",
    "Delta Lake fornece APIs programáticas para atualização condicional, exclusão e mesclagem (upsert) de dados em tabelas. Aqui estão alguns exemplos."
   ]
  },
  {
   "cell_type": "code",
   "execution_count": 9,
   "id": "7cf23128",
   "metadata": {},
   "outputs": [
    {
     "name": "stdout",
     "output_type": "stream",
     "text": [
      "+---+--------------+------+-------------+---------------+---------+--------+------------+\n",
      "| id|          nome|altura|cor_dos_olhos|data_nascimento|     sexo| planeta|     especie|\n",
      "+---+--------------+------+-------------+---------------+---------+--------+------------+\n",
      "|  1|Luke Skywalker|  1.72|         azul|          19BBY|masculino|Tatooine|      Humano|\n",
      "|  2|         C-3PO|  1.67|      amarelo|         112BBY|       NA|Tatooine|       Droid|\n",
      "|  3|         R2-D2|  0.67|     vermelho|          33BBY|       NA|   Naboo|       Droid|\n",
      "|  4|   Darth Vader|  2.02|         azul|        41.9BBY|  amarelo|Tatooine|      Humano|\n",
      "|  5|   Leia Organa|   1.5|     castanho|          19BBY| feminino|Alderaan|      Humano|\n",
      "|  6|      Han Solo|   1.8|     castanho|          29BBY|masculino|Corellia|      Humano|\n",
      "|  7|          Yoda|  0.66|     castanho|         896BBY|masculino|    null|Yoda Especie|\n",
      "|  8|     Chewbacca|  2.28|         azul|         200BBY|masculino|Kashyyyk|     Wookiee|\n",
      "|  9|     Boba Fett|  1.83|     castanho|        31.5BBY|masculino|  Kamino|      Humano|\n",
      "| 10|     Palpatine|   1.7|      amarelo|          82BBY|masculino|   Naboo|      Humano|\n",
      "+---+--------------+------+-------------+---------------+---------+--------+------------+\n",
      "\n"
     ]
    }
   ],
   "source": [
    "df_star_wars_new = spark.createDataFrame(\n",
    "    [\n",
    "        (1, 'Luke Skywalker', 1.72,'azul','19BBY','masculino','Tatooine','Humano'),\n",
    "        (2, 'C-3PO',1.67,'amarelo','112BBY','NA','Tatooine','Droid'),\n",
    "        (3, 'R2-D2', 0.67, 'vermelho','33BBY','NA','Naboo','Droid'),\n",
    "        (4, 'Darth Vader', 2.02, 'azul','41.9BBY','amarelo','Tatooine','Humano'),\n",
    "        (5, 'Leia Organa', 1.50,'castanho','19BBY','feminino','Alderaan','Humano'),\n",
    "        (6, 'Han Solo', 1.80, 'castanho', '29BBY', 'masculino', 'Corellia', 'Humano'),\n",
    "        (7, 'Yoda', 0.66, 'castanho', '896BBY', 'masculino', None, 'Yoda Especie'),\n",
    "        (8, 'Chewbacca', 2.28, 'azul', '200BBY', 'masculino', 'Kashyyyk', 'Wookiee'),\n",
    "        (9, 'Boba Fett', 1.83, 'castanho', '31.5BBY', 'masculino', 'Kamino', 'Humano'),\n",
    "        (10, 'Palpatine', 1.70, 'amarelo', '82BBY', 'masculino', 'Naboo', 'Humano'),\n",
    "        \n",
    "     \n",
    "    ],\n",
    "        ['id', 'nome', 'altura', 'cor_dos_olhos','data_nascimento','sexo','planeta','especie']\n",
    ")\n",
    "\n",
    "df_star_wars_new.show()"
   ]
  },
  {
   "cell_type": "code",
   "execution_count": 10,
   "id": "6ce932de",
   "metadata": {},
   "outputs": [],
   "source": [
    "table = DeltaTable.forPath(spark, path)"
   ]
  },
  {
   "cell_type": "code",
   "execution_count": 11,
   "id": "b7722275",
   "metadata": {},
   "outputs": [
    {
     "name": "stdout",
     "output_type": "stream",
     "text": [
      "+---+----------------+------+-------------+---------------+---------+--------+------------+\n",
      "|id |nome            |altura|cor_dos_olhos|data_nascimento|sexo     |planeta |especie     |\n",
      "+---+----------------+------+-------------+---------------+---------+--------+------------+\n",
      "|4  |Anakin Skywalker|1.88  |azul         |41.9BBY        |masculino|Tatooine|Humano      |\n",
      "|5  |Leia Organa     |1.5   |castanho     |19BBY          |feminino |Alderaan|Humano      |\n",
      "|1  |Luke Skywalker  |1.72  |azul         |19BBY          |masculino|Tatooine|Humano      |\n",
      "|6  |Han Solo        |1.8   |castanho     |29BBY          |masculino|Corellia|Humano      |\n",
      "|7  |Yoda            |0.66  |castanho     |896BBY         |masculino|null    |Yoda Especie|\n",
      "|2  |C-3PO           |1.67  |amarelo      |112BBY         |NA       |Tatooine|Droid       |\n",
      "|3  |R2-D2           |0.67  |vermelho     |33BBY          |NA       |Naboo   |Droid       |\n",
      "+---+----------------+------+-------------+---------------+---------+--------+------------+\n",
      "\n"
     ]
    }
   ],
   "source": [
    "table.toDF().show(truncate=False)"
   ]
  },
  {
   "cell_type": "code",
   "execution_count": 12,
   "id": "3d124647",
   "metadata": {},
   "outputs": [],
   "source": [
    "table.alias(\"persisteddata\") .merge( \\\n",
    "   df_star_wars_new.alias(\"newdata\"), \\\n",
    "    \"persisteddata.id = newdata.id\") \\\n",
    ".whenMatchedUpdateAll() \\\n",
    ".whenNotMatchedInsertAll() \\\n",
    ".execute()"
   ]
  },
  {
   "cell_type": "code",
   "execution_count": 13,
   "id": "446c1e89",
   "metadata": {},
   "outputs": [
    {
     "name": "stdout",
     "output_type": "stream",
     "text": [
      "+---+--------------+------+-------------+---------------+---------+--------+------------+\n",
      "|id |nome          |altura|cor_dos_olhos|data_nascimento|sexo     |planeta |especie     |\n",
      "+---+--------------+------+-------------+---------------+---------+--------+------------+\n",
      "|5  |Leia Organa   |1.5   |castanho     |19BBY          |feminino |Alderaan|Humano      |\n",
      "|1  |Luke Skywalker|1.72  |azul         |19BBY          |masculino|Tatooine|Humano      |\n",
      "|9  |Boba Fett     |1.83  |castanho     |31.5BBY        |masculino|Kamino  |Humano      |\n",
      "|6  |Han Solo      |1.8   |castanho     |29BBY          |masculino|Corellia|Humano      |\n",
      "|8  |Chewbacca     |2.28  |azul         |200BBY         |masculino|Kashyyyk|Wookiee     |\n",
      "|4  |Darth Vader   |2.02  |azul         |41.9BBY        |amarelo  |Tatooine|Humano      |\n",
      "|10 |Palpatine     |1.7   |amarelo      |82BBY          |masculino|Naboo   |Humano      |\n",
      "|7  |Yoda          |0.66  |castanho     |896BBY         |masculino|null    |Yoda Especie|\n",
      "|2  |C-3PO         |1.67  |amarelo      |112BBY         |NA       |Tatooine|Droid       |\n",
      "|3  |R2-D2         |0.67  |vermelho     |33BBY          |NA       |Naboo   |Droid       |\n",
      "+---+--------------+------+-------------+---------------+---------+--------+------------+\n",
      "\n"
     ]
    }
   ],
   "source": [
    "table.toDF().show(truncate=False)"
   ]
  },
  {
   "cell_type": "code",
   "execution_count": 14,
   "id": "cafb2c73",
   "metadata": {},
   "outputs": [
    {
     "name": "stdout",
     "output_type": "stream",
     "text": [
      "root\n",
      " |-- id: long (nullable = true)\n",
      " |-- nome: string (nullable = true)\n",
      " |-- altura: double (nullable = true)\n",
      " |-- cor_dos_olhos: string (nullable = true)\n",
      " |-- data_nascimento: string (nullable = true)\n",
      " |-- sexo: string (nullable = true)\n",
      " |-- planeta: string (nullable = true)\n",
      " |-- especie: string (nullable = true)\n",
      "\n"
     ]
    }
   ],
   "source": [
    "table.toDF().printSchema()"
   ]
  },
  {
   "cell_type": "markdown",
   "id": "a6417cfe",
   "metadata": {},
   "source": [
    "#### UPDATE DATA"
   ]
  },
  {
   "cell_type": "code",
   "execution_count": 15,
   "id": "2ea28cd7",
   "metadata": {},
   "outputs": [],
   "source": [
    "deltaTable = DeltaTable.forPath(spark, path)\n",
    "\n",
    "deltaTable.update(\"id = 4\", { \"cor_dos_olhos\": \"'amarelo'\", \"sexo\": \"'masculino'\"} )"
   ]
  },
  {
   "cell_type": "code",
   "execution_count": 16,
   "id": "71b177fb",
   "metadata": {},
   "outputs": [
    {
     "name": "stdout",
     "output_type": "stream",
     "text": [
      "+---+--------------+------+-------------+---------------+---------+--------+------------+\n",
      "|id |nome          |altura|cor_dos_olhos|data_nascimento|sexo     |planeta |especie     |\n",
      "+---+--------------+------+-------------+---------------+---------+--------+------------+\n",
      "|4  |Darth Vader   |2.02  |amarelo      |41.9BBY        |masculino|Tatooine|Humano      |\n",
      "|5  |Leia Organa   |1.5   |castanho     |19BBY          |feminino |Alderaan|Humano      |\n",
      "|1  |Luke Skywalker|1.72  |azul         |19BBY          |masculino|Tatooine|Humano      |\n",
      "|9  |Boba Fett     |1.83  |castanho     |31.5BBY        |masculino|Kamino  |Humano      |\n",
      "|6  |Han Solo      |1.8   |castanho     |29BBY          |masculino|Corellia|Humano      |\n",
      "|8  |Chewbacca     |2.28  |azul         |200BBY         |masculino|Kashyyyk|Wookiee     |\n",
      "|10 |Palpatine     |1.7   |amarelo      |82BBY          |masculino|Naboo   |Humano      |\n",
      "|7  |Yoda          |0.66  |castanho     |896BBY         |masculino|null    |Yoda Especie|\n",
      "|2  |C-3PO         |1.67  |amarelo      |112BBY         |NA       |Tatooine|Droid       |\n",
      "|3  |R2-D2         |0.67  |vermelho     |33BBY          |NA       |Naboo   |Droid       |\n",
      "+---+--------------+------+-------------+---------------+---------+--------+------------+\n",
      "\n"
     ]
    }
   ],
   "source": [
    "table.toDF().show(truncate=False)"
   ]
  },
  {
   "cell_type": "markdown",
   "id": "1c242f93",
   "metadata": {},
   "source": [
    "## DELETE DATA"
   ]
  },
  {
   "cell_type": "code",
   "execution_count": 17,
   "id": "3eec0685",
   "metadata": {},
   "outputs": [],
   "source": [
    "table = DeltaTable.forPath(spark, path)\n",
    "table.delete(\"id = 9\")  "
   ]
  },
  {
   "cell_type": "code",
   "execution_count": 18,
   "id": "657e13b6",
   "metadata": {},
   "outputs": [
    {
     "name": "stdout",
     "output_type": "stream",
     "text": [
      "+---+--------------+------+-------------+---------------+---------+--------+------------+\n",
      "|id |nome          |altura|cor_dos_olhos|data_nascimento|sexo     |planeta |especie     |\n",
      "+---+--------------+------+-------------+---------------+---------+--------+------------+\n",
      "|4  |Darth Vader   |2.02  |amarelo      |41.9BBY        |masculino|Tatooine|Humano      |\n",
      "|5  |Leia Organa   |1.5   |castanho     |19BBY          |feminino |Alderaan|Humano      |\n",
      "|1  |Luke Skywalker|1.72  |azul         |19BBY          |masculino|Tatooine|Humano      |\n",
      "|6  |Han Solo      |1.8   |castanho     |29BBY          |masculino|Corellia|Humano      |\n",
      "|8  |Chewbacca     |2.28  |azul         |200BBY         |masculino|Kashyyyk|Wookiee     |\n",
      "|10 |Palpatine     |1.7   |amarelo      |82BBY          |masculino|Naboo   |Humano      |\n",
      "|7  |Yoda          |0.66  |castanho     |896BBY         |masculino|null    |Yoda Especie|\n",
      "|2  |C-3PO         |1.67  |amarelo      |112BBY         |NA       |Tatooine|Droid       |\n",
      "|3  |R2-D2         |0.67  |vermelho     |33BBY          |NA       |Naboo   |Droid       |\n",
      "+---+--------------+------+-------------+---------------+---------+--------+------------+\n",
      "\n"
     ]
    }
   ],
   "source": [
    "table = DeltaTable.forPath(spark, path)\n",
    "table.toDF().show(truncate=False)"
   ]
  },
  {
   "cell_type": "markdown",
   "id": "e8f6d100",
   "metadata": {},
   "source": [
    "## Histórico da Tabela Delta"
   ]
  },
  {
   "cell_type": "code",
   "execution_count": 19,
   "id": "d598d2a8",
   "metadata": {},
   "outputs": [
    {
     "name": "stdout",
     "output_type": "stream",
     "text": [
      "+---+----------------+------+-------------+---------------+---------+--------+------------+\n",
      "| id|            nome|altura|cor_dos_olhos|data_nascimento|     sexo| planeta|     especie|\n",
      "+---+----------------+------+-------------+---------------+---------+--------+------------+\n",
      "|  4|Anakin Skywalker|  1.88|         azul|        41.9BBY|masculino|Tatooine|      Humano|\n",
      "|  5|     Leia Organa|   1.5|     castanho|          19BBY| feminino|Alderaan|      Humano|\n",
      "|  1|  Luke Skywalker|  1.72|         azul|          19BBY|masculino|Tatooine|      Humano|\n",
      "|  6|        Han Solo|   1.8|     castanho|          29BBY|masculino|Corellia|      Humano|\n",
      "|  7|            Yoda|  0.66|     castanho|         896BBY|masculino|    null|Yoda Especie|\n",
      "|  2|           C-3PO|  1.67|      amarelo|         112BBY|       NA|Tatooine|       Droid|\n",
      "|  3|           R2-D2|  0.67|     vermelho|          33BBY|       NA|   Naboo|       Droid|\n",
      "+---+----------------+------+-------------+---------------+---------+--------+------------+\n",
      "\n"
     ]
    }
   ],
   "source": [
    "df_star_wars = spark.read.format(\"delta\").option(\"versionAsOf\", 0).load(path)\n",
    "df_star_wars.show()"
   ]
  },
  {
   "cell_type": "code",
   "execution_count": 20,
   "id": "ec63af6e",
   "metadata": {},
   "outputs": [
    {
     "name": "stdout",
     "output_type": "stream",
     "text": [
      "+---+--------------+------+-------------+---------------+---------+--------+------------+\n",
      "| id|          nome|altura|cor_dos_olhos|data_nascimento|     sexo| planeta|     especie|\n",
      "+---+--------------+------+-------------+---------------+---------+--------+------------+\n",
      "|  5|   Leia Organa|   1.5|     castanho|          19BBY| feminino|Alderaan|      Humano|\n",
      "|  1|Luke Skywalker|  1.72|         azul|          19BBY|masculino|Tatooine|      Humano|\n",
      "|  9|     Boba Fett|  1.83|     castanho|        31.5BBY|masculino|  Kamino|      Humano|\n",
      "|  6|      Han Solo|   1.8|     castanho|          29BBY|masculino|Corellia|      Humano|\n",
      "|  8|     Chewbacca|  2.28|         azul|         200BBY|masculino|Kashyyyk|     Wookiee|\n",
      "|  4|   Darth Vader|  2.02|         azul|        41.9BBY|  amarelo|Tatooine|      Humano|\n",
      "| 10|     Palpatine|   1.7|      amarelo|          82BBY|masculino|   Naboo|      Humano|\n",
      "|  7|          Yoda|  0.66|     castanho|         896BBY|masculino|    null|Yoda Especie|\n",
      "|  2|         C-3PO|  1.67|      amarelo|         112BBY|       NA|Tatooine|       Droid|\n",
      "|  3|         R2-D2|  0.67|     vermelho|          33BBY|       NA|   Naboo|       Droid|\n",
      "+---+--------------+------+-------------+---------------+---------+--------+------------+\n",
      "\n"
     ]
    }
   ],
   "source": [
    "df_star_wars = spark.read.format(\"delta\").option(\"versionAsOf\", 1).load(path)\n",
    "df_star_wars.show()"
   ]
  },
  {
   "cell_type": "code",
   "execution_count": 21,
   "id": "71f273c3",
   "metadata": {},
   "outputs": [],
   "source": [
    "deltaTable = DeltaTable.forPath(spark, path)"
   ]
  },
  {
   "cell_type": "code",
   "execution_count": 22,
   "id": "451aac58",
   "metadata": {},
   "outputs": [
    {
     "ename": "AttributeError",
     "evalue": "'DeltaTable' object has no attribute 'show'",
     "output_type": "error",
     "traceback": [
      "\u001b[0;31m---------------------------------------------------------------------------\u001b[0m",
      "\u001b[0;31mAttributeError\u001b[0m                            Traceback (most recent call last)",
      "\u001b[0;32m<ipython-input-22-0cfc25bf57fd>\u001b[0m in \u001b[0;36m<module>\u001b[0;34m\u001b[0m\n\u001b[0;32m----> 1\u001b[0;31m \u001b[0mdeltaTable\u001b[0m\u001b[0;34m.\u001b[0m\u001b[0mshow\u001b[0m\u001b[0;34m(\u001b[0m\u001b[0;34m)\u001b[0m\u001b[0;34m\u001b[0m\u001b[0;34m\u001b[0m\u001b[0m\n\u001b[0m",
      "\u001b[0;31mAttributeError\u001b[0m: 'DeltaTable' object has no attribute 'show'"
     ]
    }
   ],
   "source": [
    "deltaTable.show()"
   ]
  },
  {
   "cell_type": "code",
   "execution_count": null,
   "id": "5b0b3913",
   "metadata": {},
   "outputs": [],
   "source": []
  }
 ],
 "metadata": {
  "kernelspec": {
   "display_name": "Python 3",
   "language": "python",
   "name": "python3"
  },
  "language_info": {
   "codemirror_mode": {
    "name": "ipython",
    "version": 3
   },
   "file_extension": ".py",
   "mimetype": "text/x-python",
   "name": "python",
   "nbconvert_exporter": "python",
   "pygments_lexer": "ipython3",
   "version": "3.8.10"
  }
 },
 "nbformat": 4,
 "nbformat_minor": 5
}
