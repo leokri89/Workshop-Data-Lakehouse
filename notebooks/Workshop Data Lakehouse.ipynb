{
 "cells": [
  {
   "cell_type": "markdown",
   "id": "f4336b1d",
   "metadata": {},
   "source": [
    "## Data Lake vs Data Lakehouse: Implementação prática com Spark"
   ]
  },
  {
   "cell_type": "markdown",
   "id": "c0114700",
   "metadata": {
    "slideshow": {
     "slide_type": "slide"
    }
   },
   "source": [
    "![capa](images/capa.png)"
   ]
  },
  {
   "cell_type": "markdown",
   "id": "ef5a4342",
   "metadata": {},
   "source": [
    "### Evolução das Arquiteturas de Dados"
   ]
  },
  {
   "cell_type": "markdown",
   "id": "2042bcc6",
   "metadata": {},
   "source": [
    "![data_architectures](images/data_architectures.png)"
   ]
  },
  {
   "cell_type": "markdown",
   "id": "0f9de194",
   "metadata": {},
   "source": [
    "**Data Warehouse**\n",
    "\n",
    "* Os data warehouses têm um longo histórico de suporte à decisão e aplicativos de inteligência de negócios, embora não sejam adequados ou caros para lidar com dados não estruturados, dados semiestruturados e dados com alta variedade, velocidade e volume.\n",
    "\n",
    "**Data Lakes**\n",
    "\n",
    "* Data lakes surgiram para lidar com dados brutos em uma variedade de formatos em armazenamento barato para ciência de dados e aprendizado de máquina, embora carecessem de recursos essenciais do mundo dos armazéns de dados: eles não suportam transações, não impõem a qualidade dos dados e sua falta de consistência/isolamento torna quase impossível misturar acréscimos e leituras e trabalhos em lote e streaming."
   ]
  },
  {
   "cell_type": "markdown",
   "id": "25dbfde8",
   "metadata": {},
   "source": [
    "**Data Lakehouse**\n",
    "\n",
    "* Data Lakehouse é uma nova arquitetura de gerenciamento de dados aberta que implementa estruturas de dados e recursos de gerenciamento de dados semelhantes aos de um Data Warehouse, diretamente no tipo de armazenamento de baixo custo usado para Data Lakes. \n",
    "\n",
    "* Mesclá-los em um único sistema significa que as equipes de dados podem se mover mais rapidamente, pois podem usar os dados sem a necessidade de acessar vários sistemas. \n",
    "\n",
    "* Data Lakehouses também garantem que as equipes tenham os dados mais completos e atualizados disponíveis para projetos de ciência de dados, aprendizado de máquina e análise de negócios."
   ]
  },
  {
   "cell_type": "code",
   "execution_count": null,
   "id": "b647361e",
   "metadata": {},
   "outputs": [],
   "source": []
  },
  {
   "cell_type": "code",
   "execution_count": null,
   "id": "2058c369",
   "metadata": {},
   "outputs": [],
   "source": [
    "spark = pyspark.sql.SparkSession.builder.appName(\"Datalakehouse\") \\\n",
    "    .config(\"spark.jars.packages\", \"io.delta:delta-core_2.12:0.8.0\") \\\n",
    "    .config(\"spark.sql.extensions\", \"io.delta.sql.DeltaSparkSessionExtension\") \\\n",
    "    .config(\"spark.sql.catalog.spark_catalog\", \"org.apache.spark.sql.delta.catalog.DeltaCatalog\") \\\n",
    "    .config(\"spark.databricks.delta.schema.autoMerge.enabled\",\"true\") \\\n",
    "    .config(\"spark.databricks.delta.autoOptimize.optimizeWrite\",\"true\") \\\n",
    "    .config(\"spark.databricks.delta.optimizeWrite.enabled\",\"true\") \\\n",
    "    .config(\"spark.databricks.delta.vacuum.parallelDelete.enabled\",\"true\") \\\n",
    "    .getOrCreate()"
   ]
  },
  {
   "cell_type": "code",
   "execution_count": null,
   "id": "b061da72",
   "metadata": {},
   "outputs": [],
   "source": [
    "from delta import *\n",
    "from pyspark.sql.functions import *"
   ]
  },
  {
   "cell_type": "markdown",
   "id": "3ab1ec72",
   "metadata": {},
   "source": [
    "### Referências:\n",
    "\n",
    "* [Data Lakehouse](https://databricks.com/glossary/data-lakehouse)"
   ]
  },
  {
   "cell_type": "code",
   "execution_count": null,
   "id": "00274beb",
   "metadata": {},
   "outputs": [],
   "source": []
  },
  {
   "cell_type": "code",
   "execution_count": null,
   "id": "08a3122a",
   "metadata": {},
   "outputs": [],
   "source": []
  }
 ],
 "metadata": {
  "kernelspec": {
   "display_name": "Python 3 (ipykernel)",
   "language": "python",
   "name": "python3"
  },
  "language_info": {
   "codemirror_mode": {
    "name": "ipython",
    "version": 3
   },
   "file_extension": ".py",
   "mimetype": "text/x-python",
   "name": "python",
   "nbconvert_exporter": "python",
   "pygments_lexer": "ipython3",
   "version": "3.9.7"
  }
 },
 "nbformat": 4,
 "nbformat_minor": 5
}
