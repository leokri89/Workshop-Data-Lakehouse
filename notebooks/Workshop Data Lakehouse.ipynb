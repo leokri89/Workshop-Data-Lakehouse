{
 "cells": [
  {
   "cell_type": "markdown",
   "id": "c0114700",
   "metadata": {
    "slideshow": {
     "slide_type": "slide"
    }
   },
   "source": [
    "![capa](images/capa.png)"
   ]
  },
  {
   "cell_type": "markdown",
   "id": "ef5a4342",
   "metadata": {},
   "source": [
    "### Evolução das Arquiteturas de Dados"
   ]
  },
  {
   "cell_type": "markdown",
   "id": "2042bcc6",
   "metadata": {},
   "source": [
    "![data_architectures](images/data_architectures.png)"
   ]
  },
  {
   "cell_type": "markdown",
   "id": "21c91c37",
   "metadata": {},
   "source": [
    "![lakehouse](images/data_lakehouse.png)"
   ]
  },
  {
   "cell_type": "markdown",
   "id": "104a7b8b",
   "metadata": {},
   "source": [
    "![deltalake_logo](images/deltalake_logo.png)"
   ]
  },
  {
   "cell_type": "markdown",
   "id": "7a5e225d",
   "metadata": {},
   "source": [
    "![deltalake_01](images/deltalake_oferece.png)"
   ]
  },
  {
   "cell_type": "markdown",
   "id": "59daa844",
   "metadata": {},
   "source": [
    "![delta_lake_oferece](images/deltalake_oferece_01.png)"
   ]
  },
  {
   "cell_type": "markdown",
   "id": "154f2773",
   "metadata": {},
   "source": [
    "![deltalake](images/deltalake.png)"
   ]
  },
  {
   "cell_type": "markdown",
   "id": "b6db7724",
   "metadata": {},
   "source": [
    "## Hands On - Data Lakehouse com Delta Lake"
   ]
  },
  {
   "cell_type": "code",
   "execution_count": null,
   "id": "2058c369",
   "metadata": {},
   "outputs": [],
   "source": [
    "import pyspark\n",
    "\n",
    "spark = pyspark.sql.SparkSession.builder.appName(\"Lakehouse\") \\\n",
    "    .config(\"spark.jars.packages\", \"io.delta:delta-core_2.12:0.8.0\") \\\n",
    "    .config(\"spark.sql.extensions\", \"io.delta.sql.DeltaSparkSessionExtension\") \\\n",
    "    .config(\"spark.sql.catalog.spark_catalog\", \"org.apache.spark.sql.delta.catalog.DeltaCatalog\") \\\n",
    "    .config(\"spark.databricks.delta.schema.autoMerge.enabled\",\"true\") \\\n",
    "    .config(\"spark.databricks.delta.autoOptimize.optimizeWrite\",\"true\") \\\n",
    "    .config(\"spark.databricks.delta.optimizeWrite.enabled\",\"true\") \\\n",
    "    .config(\"spark.databricks.delta.vacuum.parallelDelete.enabled\",\"true\") \\\n",
    "    .getOrCreate()\n",
    "\n",
    "from delta.tables import *\n",
    "from pyspark.sql.functions import *"
   ]
  },
  {
   "cell_type": "code",
   "execution_count": 2,
   "id": "06f18af8",
   "metadata": {},
   "outputs": [
    {
     "data": {
      "text/html": [
       "\n",
       "            <div>\n",
       "                <p><b>SparkSession - in-memory</b></p>\n",
       "                \n",
       "        <div>\n",
       "            <p><b>SparkContext</b></p>\n",
       "\n",
       "            <p><a href=\"http://192.168.0.172:4040\">Spark UI</a></p>\n",
       "\n",
       "            <dl>\n",
       "              <dt>Version</dt>\n",
       "                <dd><code>v3.0.0</code></dd>\n",
       "              <dt>Master</dt>\n",
       "                <dd><code>local[*]</code></dd>\n",
       "              <dt>AppName</dt>\n",
       "                <dd><code>Lakehouse</code></dd>\n",
       "            </dl>\n",
       "        </div>\n",
       "        \n",
       "            </div>\n",
       "        "
      ],
      "text/plain": [
       "<pyspark.sql.session.SparkSession at 0x7ffa0c8afa90>"
      ]
     },
     "execution_count": 2,
     "metadata": {},
     "output_type": "execute_result"
    }
   ],
   "source": [
    "spark"
   ]
  },
  {
   "cell_type": "code",
   "execution_count": 3,
   "id": "ea33f209",
   "metadata": {},
   "outputs": [],
   "source": [
    "!rm -rf tmp/"
   ]
  },
  {
   "cell_type": "markdown",
   "id": "413ce19a",
   "metadata": {},
   "source": [
    "![star_wars](images/star_wars.png)"
   ]
  },
  {
   "cell_type": "markdown",
   "id": "fd74d293",
   "metadata": {},
   "source": [
    "### **Criando uma tabela Delta**\n",
    "\n",
    "* Para criar uma tabela Delta, escreve-se um DataFrame no formato delta. \n",
    "\n",
    "* Podemos utilizar um código Spark SQL existente e alterar o formato tradicional (parquet,csv,json, etc) para o formato delta."
   ]
  },
  {
   "cell_type": "code",
   "execution_count": 4,
   "id": "d4b68a47",
   "metadata": {},
   "outputs": [],
   "source": [
    "path = 'tmp/sample.parquet'"
   ]
  },
  {
   "cell_type": "code",
   "execution_count": 5,
   "id": "d8851351",
   "metadata": {},
   "outputs": [
    {
     "name": "stdout",
     "output_type": "stream",
     "text": [
      "+---+----------------+------+-------------+---------------+---------+--------+------------+\n",
      "| id|            nome|altura|cor_dos_olhos|data_nascimento|     sexo| planeta|     especie|\n",
      "+---+----------------+------+-------------+---------------+---------+--------+------------+\n",
      "|  1|  Luke Skywalker|  1.72|         azul|          19BBY|masculino|Tatooine|      Humano|\n",
      "|  2|           C-3PO|  1.67|      amarelo|         112BBY|       NA|Tatooine|       Droid|\n",
      "|  3|           R2-D2|  0.67|     vermelho|          33BBY|       NA|   Naboo|       Droid|\n",
      "|  4|Anakin Skywalker|  1.88|         azul|        41.9BBY|masculino|Tatooine|      Humano|\n",
      "|  5|     Leia Organa|   1.5|     castanho|          19BBY| feminino|Alderaan|      Humano|\n",
      "|  6|        Han Solo|   1.8|     castanho|          29BBY|masculino|Corellia|      Humano|\n",
      "|  7|            Yoda|  0.66|     castanho|         896BBY|masculino|    null|Yoda Especie|\n",
      "+---+----------------+------+-------------+---------------+---------+--------+------------+\n",
      "\n"
     ]
    }
   ],
   "source": [
    "df_star_wars = spark.createDataFrame(\n",
    "    [\n",
    "        (1, 'Luke Skywalker', 1.72,'azul','19BBY','masculino','Tatooine','Humano'),\n",
    "        (2, 'C-3PO',1.67,'amarelo','112BBY','NA','Tatooine','Droid'),\n",
    "        (3, 'R2-D2', 0.67, 'vermelho','33BBY','NA','Naboo','Droid'),\n",
    "        (4, 'Anakin Skywalker', 1.88, 'azul','41.9BBY','masculino','Tatooine','Humano'),\n",
    "        (5, 'Leia Organa', 1.50,'castanho','19BBY','feminino','Alderaan','Humano'),\n",
    "        (6, 'Han Solo', 1.80, 'castanho', '29BBY', 'masculino', 'Corellia', 'Humano'),\n",
    "        (7, 'Yoda', 0.66, 'castanho', '896BBY', 'masculino', None, 'Yoda Especie')\n",
    "     \n",
    "    ],\n",
    "        ['id', 'nome', 'altura', 'cor_dos_olhos','data_nascimento','sexo','planeta','especie']\n",
    ")\n",
    "\n",
    "df_star_wars.show()"
   ]
  },
  {
   "cell_type": "code",
   "execution_count": 6,
   "id": "00274beb",
   "metadata": {},
   "outputs": [],
   "source": [
    "df_star_wars.write.format(\"delta\").save(path)"
   ]
  },
  {
   "cell_type": "markdown",
   "id": "31d8c596",
   "metadata": {},
   "source": [
    "![delta_table](images/delta_table.png)"
   ]
  },
  {
   "cell_type": "markdown",
   "id": "9b593df8",
   "metadata": {},
   "source": [
    "### **Leitura dos Dados**"
   ]
  },
  {
   "cell_type": "code",
   "execution_count": 10,
   "id": "08a3122a",
   "metadata": {},
   "outputs": [
    {
     "name": "stdout",
     "output_type": "stream",
     "text": [
      "+---+----------------+------+-------------+---------------+---------+--------+------------+\n",
      "|id |nome            |altura|cor_dos_olhos|data_nascimento|sexo     |planeta |especie     |\n",
      "+---+----------------+------+-------------+---------------+---------+--------+------------+\n",
      "|4  |Anakin Skywalker|1.88  |azul         |41.9BBY        |masculino|Tatooine|Humano      |\n",
      "|5  |Leia Organa     |1.5   |castanho     |19BBY          |feminino |Alderaan|Humano      |\n",
      "|1  |Luke Skywalker  |1.72  |azul         |19BBY          |masculino|Tatooine|Humano      |\n",
      "|6  |Han Solo        |1.8   |castanho     |29BBY          |masculino|Corellia|Humano      |\n",
      "|7  |Yoda            |0.66  |castanho     |896BBY         |masculino|null    |Yoda Especie|\n",
      "|2  |C-3PO           |1.67  |amarelo      |112BBY         |NA       |Tatooine|Droid       |\n",
      "|3  |R2-D2           |0.67  |vermelho     |33BBY          |NA       |Naboo   |Droid       |\n",
      "+---+----------------+------+-------------+---------------+---------+--------+------------+\n",
      "\n"
     ]
    }
   ],
   "source": [
    "df_delta = spark.read.format(\"delta\").load(path)\n",
    "df_delta.show(truncate=False)"
   ]
  },
  {
   "cell_type": "markdown",
   "id": "134b2e53",
   "metadata": {},
   "source": [
    "![upsert](images/upsert.png)"
   ]
  },
  {
   "cell_type": "markdown",
   "id": "59d16251",
   "metadata": {},
   "source": [
    "![update](images/update.png)"
   ]
  },
  {
   "cell_type": "markdown",
   "id": "7d2780d8",
   "metadata": {},
   "source": [
    "**Atualização condicional sem sobrescrever**\n",
    "\n",
    "Delta Lake fornece APIs para:\n",
    "\n",
    "* Atualização condicional\n",
    "* Exclusão\n",
    "* Merge(upsert) de dados "
   ]
  },
  {
   "cell_type": "code",
   "execution_count": 9,
   "id": "7cf23128",
   "metadata": {},
   "outputs": [
    {
     "name": "stdout",
     "output_type": "stream",
     "text": [
      "+---+--------------+------+-------------+---------------+---------+--------+------------+\n",
      "| id|          nome|altura|cor_dos_olhos|data_nascimento|     sexo| planeta|     especie|\n",
      "+---+--------------+------+-------------+---------------+---------+--------+------------+\n",
      "|  1|Luke Skywalker|  1.72|         azul|          19BBY|masculino|Tatooine|      Humano|\n",
      "|  2|         C-3PO|  1.67|      amarelo|         112BBY|       NA|Tatooine|       Droid|\n",
      "|  3|         R2-D2|  0.67|     vermelho|          33BBY|       NA|   Naboo|       Droid|\n",
      "|  4|   Darth Vader|  2.02|         azul|        41.9BBY|  amarelo|Tatooine|      Humano|\n",
      "|  5|   Leia Organa|   1.5|     castanho|          19BBY| feminino|Alderaan|      Humano|\n",
      "|  6|      Han Solo|   1.8|     castanho|          29BBY|masculino|Corellia|      Humano|\n",
      "|  7|          Yoda|  0.66|     castanho|         896BBY|masculino|    null|Yoda Especie|\n",
      "|  8|     Chewbacca|  2.28|         azul|         200BBY|masculino|Kashyyyk|     Wookiee|\n",
      "|  9|     Boba Fett|  1.83|     castanho|        31.5BBY|masculino|  Kamino|      Humano|\n",
      "| 10|     Palpatine|   1.7|      amarelo|          82BBY|masculino|   Naboo|      Humano|\n",
      "+---+--------------+------+-------------+---------------+---------+--------+------------+\n",
      "\n"
     ]
    }
   ],
   "source": [
    "df_star_wars_new = spark.createDataFrame(\n",
    "    [\n",
    "        (1, 'Luke Skywalker', 1.72,'azul','19BBY','masculino','Tatooine','Humano'),\n",
    "        (2, 'C-3PO',1.67,'amarelo','112BBY','NA','Tatooine','Droid'),\n",
    "        (3, 'R2-D2', 0.67, 'vermelho','33BBY','NA','Naboo','Droid'),\n",
    "        (4, 'Darth Vader', 2.02, 'azul','41.9BBY','amarelo','Tatooine','Humano'),\n",
    "        (5, 'Leia Organa', 1.50,'castanho','19BBY','feminino','Alderaan','Humano'),\n",
    "        (6, 'Han Solo', 1.80, 'castanho', '29BBY', 'masculino', 'Corellia', 'Humano'),\n",
    "        (7, 'Yoda', 0.66, 'castanho', '896BBY', 'masculino', None, 'Yoda Especie'),\n",
    "        (8, 'Chewbacca', 2.28, 'azul', '200BBY', 'masculino', 'Kashyyyk', 'Wookiee'),\n",
    "        (9, 'Boba Fett', 1.83, 'castanho', '31.5BBY', 'masculino', 'Kamino', 'Humano'),\n",
    "        (10, 'Palpatine', 1.70, 'amarelo', '82BBY', 'masculino', 'Naboo', 'Humano'),\n",
    "        \n",
    "     \n",
    "    ],\n",
    "        ['id', 'nome', 'altura', 'cor_dos_olhos','data_nascimento','sexo','planeta','especie']\n",
    ")\n",
    "\n",
    "df_star_wars_new.show()"
   ]
  },
  {
   "cell_type": "markdown",
   "id": "37b10237",
   "metadata": {},
   "source": [
    "![merge_tables](images/merge_tables.png)"
   ]
  },
  {
   "cell_type": "code",
   "execution_count": 10,
   "id": "6ce932de",
   "metadata": {},
   "outputs": [],
   "source": [
    "table = DeltaTable.forPath(spark, path)"
   ]
  },
  {
   "cell_type": "code",
   "execution_count": 11,
   "id": "3d124647",
   "metadata": {},
   "outputs": [],
   "source": [
    "table.alias(\"persisteddata\") .merge( \\\n",
    "   df_star_wars_new.alias(\"newdata\"), \\\n",
    "    \"persisteddata.id = newdata.id\") \\\n",
    ".whenMatchedUpdateAll() \\\n",
    ".whenNotMatchedInsertAll() \\\n",
    ".execute()"
   ]
  },
  {
   "cell_type": "code",
   "execution_count": 12,
   "id": "446c1e89",
   "metadata": {},
   "outputs": [
    {
     "name": "stdout",
     "output_type": "stream",
     "text": [
      "+---+--------------+------+-------------+---------------+---------+--------+------------+\n",
      "|id |nome          |altura|cor_dos_olhos|data_nascimento|sexo     |planeta |especie     |\n",
      "+---+--------------+------+-------------+---------------+---------+--------+------------+\n",
      "|5  |Leia Organa   |1.5   |castanho     |19BBY          |feminino |Alderaan|Humano      |\n",
      "|1  |Luke Skywalker|1.72  |azul         |19BBY          |masculino|Tatooine|Humano      |\n",
      "|9  |Boba Fett     |1.83  |castanho     |31.5BBY        |masculino|Kamino  |Humano      |\n",
      "|6  |Han Solo      |1.8   |castanho     |29BBY          |masculino|Corellia|Humano      |\n",
      "|4  |Darth Vader   |2.02  |azul         |41.9BBY        |amarelo  |Tatooine|Humano      |\n",
      "|8  |Chewbacca     |2.28  |azul         |200BBY         |masculino|Kashyyyk|Wookiee     |\n",
      "|10 |Palpatine     |1.7   |amarelo      |82BBY          |masculino|Naboo   |Humano      |\n",
      "|7  |Yoda          |0.66  |castanho     |896BBY         |masculino|null    |Yoda Especie|\n",
      "|2  |C-3PO         |1.67  |amarelo      |112BBY         |NA       |Tatooine|Droid       |\n",
      "|3  |R2-D2         |0.67  |vermelho     |33BBY          |NA       |Naboo   |Droid       |\n",
      "+---+--------------+------+-------------+---------------+---------+--------+------------+\n",
      "\n"
     ]
    }
   ],
   "source": [
    "table.toDF().show(truncate=False)"
   ]
  },
  {
   "cell_type": "markdown",
   "id": "686fd0f1",
   "metadata": {},
   "source": [
    "![log_transaction](images/log_transaction.png)"
   ]
  },
  {
   "cell_type": "markdown",
   "id": "a8600392",
   "metadata": {},
   "source": [
    "![update_data](images/update_data.png)"
   ]
  },
  {
   "cell_type": "markdown",
   "id": "9d812139",
   "metadata": {},
   "source": [
    "![update_darth](images/update_darth.png)"
   ]
  },
  {
   "cell_type": "code",
   "execution_count": 21,
   "id": "2ea28cd7",
   "metadata": {},
   "outputs": [],
   "source": [
    "deltaTable = DeltaTable.forPath(spark, path)\n",
    "\n",
    "deltaTable.update(\"id = 4\", { \"cor_dos_olhos\": \"'amarelo'\", \"sexo\": \"'masculino'\"} )"
   ]
  },
  {
   "cell_type": "code",
   "execution_count": 23,
   "id": "50accbef",
   "metadata": {},
   "outputs": [
    {
     "name": "stdout",
     "output_type": "stream",
     "text": [
      "+---+--------------+------+-------------+---------------+---------+--------+------------+\n",
      "|id |nome          |altura|cor_dos_olhos|data_nascimento|sexo     |planeta |especie     |\n",
      "+---+--------------+------+-------------+---------------+---------+--------+------------+\n",
      "|4  |Darth Vader   |2.02  |amarelo      |41.9BBY        |masculino|Tatooine|Humano      |\n",
      "|5  |Leia Organa   |1.5   |castanho     |19BBY          |feminino |Alderaan|Humano      |\n",
      "|1  |Luke Skywalker|1.72  |azul         |19BBY          |masculino|Tatooine|Humano      |\n",
      "|9  |Boba Fett     |1.83  |castanho     |31.5BBY        |masculino|Kamino  |Humano      |\n",
      "|6  |Han Solo      |1.8   |castanho     |29BBY          |masculino|Corellia|Humano      |\n",
      "|8  |Chewbacca     |2.28  |azul         |200BBY         |masculino|Kashyyyk|Wookiee     |\n",
      "|10 |Palpatine     |1.7   |amarelo      |82BBY          |masculino|Naboo   |Humano      |\n",
      "|7  |Yoda          |0.66  |castanho     |896BBY         |masculino|null    |Yoda Especie|\n",
      "|2  |C-3PO         |1.67  |amarelo      |112BBY         |NA       |Tatooine|Droid       |\n",
      "|3  |R2-D2         |0.67  |vermelho     |33BBY          |NA       |Naboo   |Droid       |\n",
      "+---+--------------+------+-------------+---------------+---------+--------+------------+\n",
      "\n"
     ]
    }
   ],
   "source": [
    "table.toDF().show(truncate=False)"
   ]
  },
  {
   "cell_type": "markdown",
   "id": "1c242f93",
   "metadata": {},
   "source": [
    "![delete](images/delete.png)"
   ]
  },
  {
   "cell_type": "markdown",
   "id": "bb307c8e",
   "metadata": {},
   "source": [
    "![delete_boba_fett](images/delete_boba_fett.png)"
   ]
  },
  {
   "cell_type": "code",
   "execution_count": 24,
   "id": "3eec0685",
   "metadata": {},
   "outputs": [],
   "source": [
    "table = DeltaTable.forPath(spark, path)\n",
    "table.delete(\"id = 9\") "
   ]
  },
  {
   "cell_type": "code",
   "execution_count": 25,
   "id": "657e13b6",
   "metadata": {},
   "outputs": [
    {
     "name": "stdout",
     "output_type": "stream",
     "text": [
      "+---+--------------+------+-------------+---------------+---------+--------+------------+\n",
      "|id |nome          |altura|cor_dos_olhos|data_nascimento|sexo     |planeta |especie     |\n",
      "+---+--------------+------+-------------+---------------+---------+--------+------------+\n",
      "|4  |Darth Vader   |2.02  |amarelo      |41.9BBY        |masculino|Tatooine|Humano      |\n",
      "|5  |Leia Organa   |1.5   |castanho     |19BBY          |feminino |Alderaan|Humano      |\n",
      "|1  |Luke Skywalker|1.72  |azul         |19BBY          |masculino|Tatooine|Humano      |\n",
      "|6  |Han Solo      |1.8   |castanho     |29BBY          |masculino|Corellia|Humano      |\n",
      "|8  |Chewbacca     |2.28  |azul         |200BBY         |masculino|Kashyyyk|Wookiee     |\n",
      "|10 |Palpatine     |1.7   |amarelo      |82BBY          |masculino|Naboo   |Humano      |\n",
      "|7  |Yoda          |0.66  |castanho     |896BBY         |masculino|null    |Yoda Especie|\n",
      "|2  |C-3PO         |1.67  |amarelo      |112BBY         |NA       |Tatooine|Droid       |\n",
      "|3  |R2-D2         |0.67  |vermelho     |33BBY          |NA       |Naboo   |Droid       |\n",
      "+---+--------------+------+-------------+---------------+---------+--------+------------+\n",
      "\n"
     ]
    }
   ],
   "source": [
    "table = DeltaTable.forPath(spark, path)\n",
    "table.toDF().show(truncate=False)"
   ]
  },
  {
   "cell_type": "markdown",
   "id": "1d79ff70",
   "metadata": {},
   "source": [
    "![history_01](images/history_01.png)"
   ]
  },
  {
   "cell_type": "markdown",
   "id": "e8f6d100",
   "metadata": {},
   "source": [
    "![history](images/history.png)"
   ]
  },
  {
   "cell_type": "code",
   "execution_count": 47,
   "id": "d598d2a8",
   "metadata": {},
   "outputs": [
    {
     "name": "stdout",
     "output_type": "stream",
     "text": [
      "+---+----------------+------+-------------+---------------+---------+--------+------------+\n",
      "| id|            nome|altura|cor_dos_olhos|data_nascimento|     sexo| planeta|     especie|\n",
      "+---+----------------+------+-------------+---------------+---------+--------+------------+\n",
      "|  4|Anakin Skywalker|  1.88|         azul|        41.9BBY|masculino|Tatooine|      Humano|\n",
      "|  5|     Leia Organa|   1.5|     castanho|          19BBY| feminino|Alderaan|      Humano|\n",
      "|  1|  Luke Skywalker|  1.72|         azul|          19BBY|masculino|Tatooine|      Humano|\n",
      "|  6|        Han Solo|   1.8|     castanho|          29BBY|masculino|Corellia|      Humano|\n",
      "|  7|            Yoda|  0.66|     castanho|         896BBY|masculino|    null|Yoda Especie|\n",
      "|  2|           C-3PO|  1.67|      amarelo|         112BBY|       NA|Tatooine|       Droid|\n",
      "|  3|           R2-D2|  0.67|     vermelho|          33BBY|       NA|   Naboo|       Droid|\n",
      "+---+----------------+------+-------------+---------------+---------+--------+------------+\n",
      "\n"
     ]
    }
   ],
   "source": [
    "df_star_wars = spark.read.format(\"delta\").option(\"versionAsOf\", 0).load(path)\n",
    "df_star_wars.show()"
   ]
  },
  {
   "cell_type": "code",
   "execution_count": 48,
   "id": "ec63af6e",
   "metadata": {},
   "outputs": [
    {
     "name": "stdout",
     "output_type": "stream",
     "text": [
      "+---+--------------+------+-------------+---------------+---------+--------+------------+\n",
      "| id|          nome|altura|cor_dos_olhos|data_nascimento|     sexo| planeta|     especie|\n",
      "+---+--------------+------+-------------+---------------+---------+--------+------------+\n",
      "|  5|   Leia Organa|   1.5|     castanho|          19BBY| feminino|Alderaan|      Humano|\n",
      "|  1|Luke Skywalker|  1.72|         azul|          19BBY|masculino|Tatooine|      Humano|\n",
      "|  9|     Boba Fett|  1.83|     castanho|        31.5BBY|masculino|  Kamino|      Humano|\n",
      "|  6|      Han Solo|   1.8|     castanho|          29BBY|masculino|Corellia|      Humano|\n",
      "|  8|     Chewbacca|  2.28|         azul|         200BBY|masculino|Kashyyyk|     Wookiee|\n",
      "|  4|   Darth Vader|  2.02|         azul|        41.9BBY|  amarelo|Tatooine|      Humano|\n",
      "| 10|     Palpatine|   1.7|      amarelo|          82BBY|masculino|   Naboo|      Humano|\n",
      "|  7|          Yoda|  0.66|     castanho|         896BBY|masculino|    null|Yoda Especie|\n",
      "|  2|         C-3PO|  1.67|      amarelo|         112BBY|       NA|Tatooine|       Droid|\n",
      "|  3|         R2-D2|  0.67|     vermelho|          33BBY|       NA|   Naboo|       Droid|\n",
      "+---+--------------+------+-------------+---------------+---------+--------+------------+\n",
      "\n"
     ]
    }
   ],
   "source": [
    "df_star_wars = spark.read.format(\"delta\").option(\"versionAsOf\", 1).load(path)\n",
    "df_star_wars.show()"
   ]
  },
  {
   "cell_type": "code",
   "execution_count": 53,
   "id": "182f21be",
   "metadata": {},
   "outputs": [
    {
     "name": "stdout",
     "output_type": "stream",
     "text": [
      "+---+--------------+------+-------------+---------------+---------+--------+------------+\n",
      "| id|          nome|altura|cor_dos_olhos|data_nascimento|     sexo| planeta|     especie|\n",
      "+---+--------------+------+-------------+---------------+---------+--------+------------+\n",
      "|  4|   Darth Vader|  2.02|      amarelo|        41.9BBY|masculino|Tatooine|      Humano|\n",
      "|  5|   Leia Organa|   1.5|     castanho|          19BBY| feminino|Alderaan|      Humano|\n",
      "|  1|Luke Skywalker|  1.72|         azul|          19BBY|masculino|Tatooine|      Humano|\n",
      "|  6|      Han Solo|   1.8|     castanho|          29BBY|masculino|Corellia|      Humano|\n",
      "|  8|     Chewbacca|  2.28|         azul|         200BBY|masculino|Kashyyyk|     Wookiee|\n",
      "| 10|     Palpatine|   1.7|      amarelo|          82BBY|masculino|   Naboo|      Humano|\n",
      "|  7|          Yoda|  0.66|     castanho|         896BBY|masculino|    null|Yoda Especie|\n",
      "|  2|         C-3PO|  1.67|      amarelo|         112BBY|       NA|Tatooine|       Droid|\n",
      "|  3|         R2-D2|  0.67|     vermelho|          33BBY|       NA|   Naboo|       Droid|\n",
      "+---+--------------+------+-------------+---------------+---------+--------+------------+\n",
      "\n"
     ]
    }
   ],
   "source": [
    "df_star_wars = spark.read.format(\"delta\").option(\"versionAsOf\", 5).load(path)\n",
    "df_star_wars.show()"
   ]
  },
  {
   "cell_type": "markdown",
   "id": "8a7e0811",
   "metadata": {},
   "source": [
    "![history_02](images/history_02.png)"
   ]
  },
  {
   "cell_type": "code",
   "execution_count": 68,
   "id": "a87a4cd7",
   "metadata": {},
   "outputs": [],
   "source": [
    "fullHistoryDF = deltaTable.history() "
   ]
  },
  {
   "cell_type": "markdown",
   "id": "cfad05a2",
   "metadata": {},
   "source": [
    "![history_03](images/history_03.png)"
   ]
  },
  {
   "cell_type": "code",
   "execution_count": 71,
   "id": "21c9c0c2",
   "metadata": {},
   "outputs": [],
   "source": [
    "lastOperationDF = deltaTable.history(1) "
   ]
  },
  {
   "cell_type": "markdown",
   "id": "f5c3a44d",
   "metadata": {},
   "source": [
    "## Acessando a última modificação"
   ]
  },
  {
   "cell_type": "code",
   "execution_count": 72,
   "id": "b9a551ac",
   "metadata": {},
   "outputs": [
    {
     "name": "stdout",
     "output_type": "stream",
     "text": [
      "+-------+-------------------+------+--------+---------+--------------------+----+--------+---------+-----------+--------------+-------------+--------------------+--------------------+\n",
      "|version|          timestamp|userId|userName|operation| operationParameters| job|notebook|clusterId|readVersion|isolationLevel|isBlindAppend|    operationMetrics|        userMetadata|\n",
      "+-------+-------------------+------+--------+---------+--------------------+----+--------+---------+-----------+--------------+-------------+--------------------+--------------------+\n",
      "|      6|2021-11-28 17:40:47|  null|    null|    WRITE|[mode -> Overwrit...|null|    null|     null|          5|          null|        false|[numFiles -> 5, n...|overwritten-for-f...|\n",
      "+-------+-------------------+------+--------+---------+--------------------+----+--------+---------+-----------+--------------+-------------+--------------------+--------------------+\n",
      "\n"
     ]
    }
   ],
   "source": [
    "lastOperationDF.show(truncate=True)"
   ]
  },
  {
   "cell_type": "markdown",
   "id": "a44c22ab",
   "metadata": {},
   "source": [
    "![vacuum](images/vacuum.png)"
   ]
  },
  {
   "cell_type": "code",
   "execution_count": 74,
   "id": "71f273c3",
   "metadata": {},
   "outputs": [],
   "source": [
    "deltaTable = DeltaTable.forPath(spark, path)"
   ]
  },
  {
   "cell_type": "code",
   "execution_count": 79,
   "id": "6da51f30",
   "metadata": {},
   "outputs": [
    {
     "data": {
      "text/plain": [
       "DataFrame[]"
      ]
     },
     "execution_count": 79,
     "metadata": {},
     "output_type": "execute_result"
    }
   ],
   "source": [
    "deltaTable.vacuum()"
   ]
  },
  {
   "cell_type": "markdown",
   "id": "feae33ba",
   "metadata": {},
   "source": [
    "### Pode-se configurar o vacuum para outros períodos."
   ]
  },
  {
   "cell_type": "markdown",
   "id": "d22b8786",
   "metadata": {},
   "source": [
    "### Referências:\n",
    "\n",
    "[1][Gerenciamento de dados:dos Dados ao Lakehouse](https://blog.compass.uol/tech/gerenciamento-de-dados-dos-dados-ao-lakehouse/)\n",
    "\n",
    "[2][Quickstart Delta Lake](https://docs.delta.io/latest/quick-start.html)\n",
    "\n",
    "[3] [5 razões para utilizar o Delta Lake](https://ichi.pro/pt/5-razoes-para-escolher-o-formato-delta-lake-em-databricks-239587988596605)\n",
    "\n",
    "[4][Data Warehouse x Data Lake x Data Lakehouse](https://www.striim.com/data-warehouse-vs-data-lake-vs-data-lakehouse-an-overview/)"
   ]
  },
  {
   "cell_type": "code",
   "execution_count": null,
   "id": "0689cbd6",
   "metadata": {},
   "outputs": [],
   "source": []
  }
 ],
 "metadata": {
  "kernelspec": {
   "display_name": "Python 3",
   "language": "python",
   "name": "python3"
  },
  "language_info": {
   "codemirror_mode": {
    "name": "ipython",
    "version": 3
   },
   "file_extension": ".py",
   "mimetype": "text/x-python",
   "name": "python",
   "nbconvert_exporter": "python",
   "pygments_lexer": "ipython3",
   "version": "3.8.10"
  }
 },
 "nbformat": 4,
 "nbformat_minor": 5
}
